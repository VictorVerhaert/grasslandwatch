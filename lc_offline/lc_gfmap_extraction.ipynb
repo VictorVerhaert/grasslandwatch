{
 "cells": [
  {
   "cell_type": "markdown",
   "id": "5563cc52",
   "metadata": {},
   "source": [
    "# Land Cover Mapping Feature Extraction"
   ]
  },
  {
   "cell_type": "markdown",
   "id": "f4e65275",
   "metadata": {},
   "source": [
    "This notebook serves as an example of how to use GFMap and openEO to extract point features for training a machine learning model to do Land Cover Mapping. \n",
    "\n",
    "The example uses the following steps:\n",
    "- Load the labelled points and ditribute them into spatial hexagons.\n",
    "- Define the pre-processing steps for extracting the features from Sentinel-1 and Sentinel-2 data.\n",
    "- Set-up the Sentinel-1 and Sentinel-2 fetchers with GFMap and launch the openEO jobs to fetch the data.\n",
    "- Combine the results from all the batch jobs into one dataframe.\n",
    "- Train a random forrest classifier using the extracted features."
   ]
  },
  {
   "cell_type": "code",
   "execution_count": 1,
   "id": "e40d694e",
   "metadata": {
    "notebookRunGroups": {
     "groupValue": "1"
    }
   },
   "outputs": [],
   "source": [
    "import openeo\n",
    "from openeo.extra.spectral_indices.spectral_indices import compute_and_rescale_indices\n",
    "import openeo.processes as eop\n",
    "\n",
    "import geopandas as gpd\n",
    "import pandas as pd\n",
    "import json\n",
    "import geojson\n",
    "from pathlib import Path\n",
    "import datetime\n",
    "from shapely.geometry import box\n",
    "from typing import List\n",
    "import logging\n",
    "\n",
    "from sklearn.model_selection import train_test_split\n",
    "from sklearn.metrics import accuracy_score, precision_recall_fscore_support, ConfusionMatrixDisplay\n",
    "\n",
    "from openeo_gfmap.manager import _log\n",
    "from openeo_gfmap import TemporalContext, Backend, BackendContext, FetchType\n",
    "from openeo_gfmap.manager.job_splitters import split_job_hex\n",
    "from openeo_gfmap.manager.job_manager import GFMAPJobManager\n",
    "from openeo_gfmap.manager import _log\n",
    "from openeo_gfmap.backend import cdse_connection, vito_connection\n",
    "from openeo_gfmap.fetching import build_sentinel2_l2a_extractor, build_sentinel1_grd_extractor"
   ]
  },
  {
   "cell_type": "code",
   "execution_count": 2,
   "id": "1e3d175b",
   "metadata": {
    "notebookRunGroups": {
     "groupValue": "1"
    }
   },
   "outputs": [],
   "source": [
    "_log.setLevel(logging.DEBUG)\n",
    "\n",
    "stream_handler = logging.StreamHandler()\n",
    "_log.addHandler(stream_handler)\n",
    "\n",
    "formatter = logging.Formatter('%(asctime)s|%(name)s|%(levelname)s:  %(message)s')\n",
    "stream_handler.setFormatter(formatter)\n",
    "\n",
    "# Exclude the other loggers from other libraries\n",
    "class MyLoggerFilter(logging.Filter):\n",
    "    def filter(self, record):\n",
    "        return record.name == _log.name\n",
    "\n",
    "stream_handler.addFilter(MyLoggerFilter())"
   ]
  },
  {
   "cell_type": "markdown",
   "id": "856c5726",
   "metadata": {},
   "source": [
    "## Distribute labelled points"
   ]
  },
  {
   "cell_type": "markdown",
   "id": "6a8aa80e",
   "metadata": {},
   "source": [
    "First, we load in a dataset with target labels. In order for the model to work, the target labels need to be integers. Also, we extract some target points from the target polygons."
   ]
  },
  {
   "cell_type": "code",
   "execution_count": 3,
   "id": "c1db8d91",
   "metadata": {},
   "outputs": [
    {
     "data": {
      "text/html": [
       "<div>\n",
       "<style scoped>\n",
       "    .dataframe tbody tr th:only-of-type {\n",
       "        vertical-align: middle;\n",
       "    }\n",
       "\n",
       "    .dataframe tbody tr th {\n",
       "        vertical-align: top;\n",
       "    }\n",
       "\n",
       "    .dataframe thead th {\n",
       "        text-align: right;\n",
       "    }\n",
       "</style>\n",
       "<table border=\"1\" class=\"dataframe\">\n",
       "  <thead>\n",
       "    <tr style=\"text-align: right;\">\n",
       "      <th></th>\n",
       "      <th>target</th>\n",
       "      <th>geometry</th>\n",
       "      <th>YEAR</th>\n",
       "    </tr>\n",
       "  </thead>\n",
       "  <tbody>\n",
       "    <tr>\n",
       "      <th>0</th>\n",
       "      <td>1</td>\n",
       "      <td>POINT (4.41237 50.62403)</td>\n",
       "      <td>2018</td>\n",
       "    </tr>\n",
       "    <tr>\n",
       "      <th>1</th>\n",
       "      <td>1</td>\n",
       "      <td>POINT (4.40775 50.65988)</td>\n",
       "      <td>2018</td>\n",
       "    </tr>\n",
       "    <tr>\n",
       "      <th>2</th>\n",
       "      <td>2</td>\n",
       "      <td>POINT (4.42316 50.76876)</td>\n",
       "      <td>2018</td>\n",
       "    </tr>\n",
       "    <tr>\n",
       "      <th>3</th>\n",
       "      <td>2</td>\n",
       "      <td>POINT (4.45993 50.69850)</td>\n",
       "      <td>2018</td>\n",
       "    </tr>\n",
       "    <tr>\n",
       "      <th>4</th>\n",
       "      <td>2</td>\n",
       "      <td>POINT (4.45355 50.75219)</td>\n",
       "      <td>2018</td>\n",
       "    </tr>\n",
       "    <tr>\n",
       "      <th>...</th>\n",
       "      <td>...</td>\n",
       "      <td>...</td>\n",
       "      <td>...</td>\n",
       "    </tr>\n",
       "    <tr>\n",
       "      <th>216</th>\n",
       "      <td>4</td>\n",
       "      <td>POINT (5.59582 50.69350)</td>\n",
       "      <td>2018</td>\n",
       "    </tr>\n",
       "    <tr>\n",
       "      <th>217</th>\n",
       "      <td>1</td>\n",
       "      <td>POINT (5.52965 51.08706)</td>\n",
       "      <td>2018</td>\n",
       "    </tr>\n",
       "    <tr>\n",
       "      <th>218</th>\n",
       "      <td>4</td>\n",
       "      <td>POINT (5.55633 51.10611)</td>\n",
       "      <td>2018</td>\n",
       "    </tr>\n",
       "    <tr>\n",
       "      <th>219</th>\n",
       "      <td>1</td>\n",
       "      <td>POINT (5.55983 51.07032)</td>\n",
       "      <td>2018</td>\n",
       "    </tr>\n",
       "    <tr>\n",
       "      <th>220</th>\n",
       "      <td>2</td>\n",
       "      <td>POINT (5.58333 51.12520)</td>\n",
       "      <td>2018</td>\n",
       "    </tr>\n",
       "  </tbody>\n",
       "</table>\n",
       "<p>221 rows × 3 columns</p>\n",
       "</div>"
      ],
      "text/plain": [
       "     target                  geometry  YEAR\n",
       "0         1  POINT (4.41237 50.62403)  2018\n",
       "1         1  POINT (4.40775 50.65988)  2018\n",
       "2         2  POINT (4.42316 50.76876)  2018\n",
       "3         2  POINT (4.45993 50.69850)  2018\n",
       "4         2  POINT (4.45355 50.75219)  2018\n",
       "..      ...                       ...   ...\n",
       "216       4  POINT (5.59582 50.69350)  2018\n",
       "217       1  POINT (5.52965 51.08706)  2018\n",
       "218       4  POINT (5.55633 51.10611)  2018\n",
       "219       1  POINT (5.55983 51.07032)  2018\n",
       "220       2  POINT (5.58333 51.12520)  2018\n",
       "\n",
       "[221 rows x 3 columns]"
      ]
     },
     "execution_count": 3,
     "metadata": {},
     "output_type": "execute_result"
    }
   ],
   "source": [
    "mask = box(4.4, 50.2, 5.6, 51.2)\n",
    "input_gpkg = gpd.read_file(\"https://artifactory.vgt.vito.be/auxdata-public/openeo/LUCAS_2018_Copernicus.gpkg\",mask=mask)\n",
    "input_gpkg[\"geometry\"] = input_gpkg[\"geometry\"].apply(lambda x: x.centroid)\n",
    "input_gpkg[\"target\"] = input_gpkg[\"LC1\"].apply(lambda x: ord(x[0])-65)\n",
    "input_gpkg = input_gpkg[['target','geometry', 'YEAR']]\n",
    "input_gpkg"
   ]
  },
  {
   "cell_type": "markdown",
   "id": "06d9b9d6",
   "metadata": {},
   "source": [
    "To extract the target point features, we use GFMap to distribute the target points over multiple hexagons. Each hexagon extraction will be performed in a separate openeo job. \n",
    "Splitting up jobs is necessary because processing a large area in one job would cause memory issues.\n",
    "\n",
    "We use `split_job_hex` for distributing the target points over multiple hexagons."
   ]
  },
  {
   "cell_type": "code",
   "execution_count": 4,
   "id": "0fd6a7c9",
   "metadata": {},
   "outputs": [
    {
     "name": "stderr",
     "output_type": "stream",
     "text": [
      "c:\\Users\\VERHAERV\\WorkingDirs\\dynamic-land-cover-mapping\\.conda\\Lib\\site-packages\\openeo_gfmap\\manager\\job_splitters.py:51: UserWarning: Geometry is in a geographic CRS. Results from 'centroid' are likely incorrect. Use 'GeoSeries.to_crs()' to re-project geometries to a projected CRS before this operation.\n",
      "\n",
      "  polygons[\"h3index\"] = polygons.geometry.centroid.apply(\n"
     ]
    }
   ],
   "source": [
    "input_split = split_job_hex(input_gpkg, max_points=500, grid_resolution=4)"
   ]
  },
  {
   "cell_type": "markdown",
   "id": "611a66e0",
   "metadata": {},
   "source": [
    "We then create a dataframe where each row represents a single hexagon, and thus batch_job."
   ]
  },
  {
   "cell_type": "code",
   "execution_count": 5,
   "id": "eec1ed56",
   "metadata": {},
   "outputs": [],
   "source": [
    "def create_job_dataframe(split_jobs: List[gpd.GeoDataFrame]) -> pd.DataFrame:\n",
    "    \"\"\"Create a dataframe from the split jobs, containg all the necessary information to run the job.\"\"\"\n",
    "    rows = []\n",
    "    for job in split_jobs:\n",
    "        start_date = datetime.datetime(job.YEAR.min(), 1, 1)\n",
    "        end_date = datetime.datetime(job.YEAR.max(), 12, 31)\n",
    "        rows.append(pd.Series({\n",
    "            'out_prefix': 'S1S2-stats',\n",
    "            'out_extension': '.csv',\n",
    "            'start_date': start_date,\n",
    "            'end_date': end_date,\n",
    "            'geometry': job.to_json()\n",
    "        }))\n",
    "    return pd.DataFrame(rows)\n",
    "\n",
    "job_df = create_job_dataframe(input_split)"
   ]
  },
  {
   "cell_type": "code",
   "execution_count": 6,
   "id": "fb92f234",
   "metadata": {},
   "outputs": [],
   "source": [
    "# job_df = job_df.iloc[:3] # testing: only run one job for now"
   ]
  },
  {
   "cell_type": "markdown",
   "id": "cbafc7d2",
   "metadata": {},
   "source": [
    "## Define feature extraction"
   ]
  },
  {
   "cell_type": "markdown",
   "id": "c597df85",
   "metadata": {},
   "source": [
    "Next, we will define wich features we want to extract from openeo.\n",
    "\n",
    "First we define the process graph, except the actual loading of a collection. This will be done by using the GFMap specific methods."
   ]
  },
  {
   "cell_type": "code",
   "execution_count": 7,
   "id": "86454dda",
   "metadata": {},
   "outputs": [],
   "source": [
    "def timesteps_as_bands(base_features):\n",
    "    band_names = [band + \"_m\" + str(i+1) for band in base_features.metadata.band_names for i in range(12)]\n",
    "    result =  base_features.apply_dimension(\n",
    "        dimension='t', \n",
    "        target_dimension='bands', \n",
    "        process=lambda d: eop.array_create(data=d)\n",
    "    )\n",
    "    return result.rename_labels('bands', band_names)\n",
    "\n",
    "def compute_statistics(base_features):\n",
    "    \"\"\"\n",
    "    Computes  MEAN, STDDEV, MIN, P25, MEDIAN, P75, MAX over a datacube.\n",
    "    \"\"\"\n",
    "    def computeStats(input_timeseries):\n",
    "        result = eop.array_concat(\n",
    "            input_timeseries.mean(),\n",
    "            input_timeseries.sd()\n",
    "        )\n",
    "        result = eop.array_concat(result, input_timeseries.min())\n",
    "        result = eop.array_concat(result, input_timeseries.quantiles(probabilities=[0.25]))\n",
    "        result = eop.array_concat(result, input_timeseries.median())\n",
    "        result = eop.array_concat(result, input_timeseries.quantiles(probabilities=[0.75]))\n",
    "        result = eop.array_concat(result, input_timeseries.max())\n",
    "        return result\n",
    "    \n",
    "    stats = base_features.apply_dimension(dimension='t', target_dimension='bands', process=computeStats)\n",
    "    all_bands = [band + \"_\" + stat for band in base_features.metadata.band_names for stat in [\"mean\", \"stddev\", \"min\", \"p25\", \"median\", \"p75\", \"max\"]]\n",
    "    return stats.rename_labels('bands', all_bands)\n",
    "\n",
    "def get_s1_features(\n",
    "        s1_datacube\n",
    ") -> openeo.DataCube:\n",
    "    s1 = s1_datacube.linear_scale_range(0, 30, 0,30000)\n",
    "    s1_month = s1.aggregate_temporal_period(period=\"month\", reducer=\"mean\")\n",
    "\n",
    "    s1_month = s1_month.apply_dimension(dimension=\"t\", process=\"array_interpolate_linear\")\n",
    "\n",
    "    s1_features = timesteps_as_bands(s1_month)\n",
    "    return s1_features\n",
    "\n",
    "def get_s2_features(\n",
    "        s2_datacube,\n",
    "        s2_list,\n",
    "        s2_index_dict,\n",
    ") -> openeo.DataCube:\n",
    "    # TODO compare with BAP or NDVIweighted\n",
    "    s2 = s2_datacube.process(\"mask_scl_dilation\", data=s2_datacube, scl_band_name=\"SCL\").filter_bands(s2_datacube.metadata.band_names[:-1])\n",
    "\n",
    "    indices = compute_and_rescale_indices(s2, s2_index_dict, append=False)\n",
    "    idx_dekad = indices.aggregate_temporal_period(\"dekad\", reducer=\"mean\")\n",
    "    idx_stats = compute_statistics(idx_dekad)\n",
    "\n",
    "    s2_montly = s2.filter_bands(s2_list).aggregate_temporal_period(\"month\", reducer=\"mean\") #TODO check whether to use mean or median\n",
    "    s2_montly = s2_montly.apply_dimension(dimension=\"t\", process=\"array_interpolate_linear\")\n",
    "    s2_features = timesteps_as_bands(s2_montly).merge_cubes(idx_stats)\n",
    "    return s2_features\n",
    "\n",
    "def preprocess_features(\n",
    "        s2_datacube,\n",
    "        s1_datacube,\n",
    ") -> openeo.DataCube:\n",
    "    s2_list = [\"B02\", \"B03\", \"B04\", \"B08\", \"B11\", \"B12\"]\n",
    "    s2_index_dict = {\n",
    "        \"collection\": {\n",
    "            \"input_range\": [0, 8000],\n",
    "            \"output_range\": [0, 30_000]\n",
    "        },\n",
    "        \"indices\": {\n",
    "            \"NDVI\": {\"input_range\": [-1,1], \"output_range\": [0, 30_000]}\n",
    "        }\n",
    "    }\n",
    "    \n",
    "    s2_features = get_s2_features(s2_datacube, s2_list, s2_index_dict)\n",
    "    s1_features = get_s1_features(s1_datacube)\n",
    "    # TODO add topopraphic features: elevation, slope and aspect \n",
    "\n",
    "    features = s2_features.merge_cubes(s1_features)\n",
    "    return features"
   ]
  },
  {
   "cell_type": "markdown",
   "id": "2a246c17",
   "metadata": {},
   "source": [
    "## Fetching the data"
   ]
  },
  {
   "cell_type": "markdown",
   "id": "6afe7fab",
   "metadata": {},
   "source": [
    "### Set-up the Sentinel-1 and Sentinel-2 fetchers"
   ]
  },
  {
   "cell_type": "markdown",
   "id": "68b4048e",
   "metadata": {},
   "source": [
    "Next we use the extractor methods of GFMap to load the collection. Using these methods allows the backend independant loading of collections (e.g. wether or not we still have to calculate the backscatter on S1 data or not).\n",
    "\n",
    "The loaded collections are pre-processed and then aggregated for the target points."
   ]
  },
  {
   "cell_type": "code",
   "execution_count": 8,
   "id": "a8885b90",
   "metadata": {},
   "outputs": [],
   "source": [
    "def sentinel2_collection(\n",
    "        row : pd.Series,\n",
    "        connection: openeo.DataCube,\n",
    "        geometry: geojson.FeatureCollection\n",
    "    )-> openeo.DataCube:\n",
    "    bands = [\"B02\", \"B03\", \"B04\", \"B05\", \"B06\", \"B07\", \"B08\", \"B11\", \"B12\", \"SCL\"]\n",
    "    bands_with_platform = [\"S2-L2A-\" + band for band in bands]\n",
    "\n",
    "    extractor = build_sentinel2_l2a_extractor(\n",
    "        backend_context=BackendContext(Backend(row.backend_name)),\n",
    "        bands=bands_with_platform,\n",
    "        fetch_type=FetchType.POINT,\n",
    "    )\n",
    "\n",
    "    temporal_context = TemporalContext(row.start_date, row.end_date)\n",
    "\n",
    "    s2 = extractor.get_cube(connection, geometry, temporal_context)\n",
    "    # TODO add max_cloud_cover 80\n",
    "    s2 = s2.rename_labels(\"bands\", bands)\n",
    "    return s2\n",
    "\n",
    "def sentinel1_collection(\n",
    "        row: pd.Series,\n",
    "        connection : openeo.DataCube,\n",
    "        geometry: geojson.FeatureCollection,\n",
    "    )-> openeo.DataCube:\n",
    "    bands = [\"VH\", \"VV\"]\n",
    "    bands_with_platform = [\"S1-SIGMA0-\" + band for band in bands]\n",
    "\n",
    "    extractor = build_sentinel1_grd_extractor(\n",
    "        backend_context=BackendContext(Backend(row.backend_name)),\n",
    "        bands=bands_with_platform,\n",
    "        fetch_type=FetchType.POINT,\n",
    "    )\n",
    "\n",
    "    temporal_context = TemporalContext(row.start_date, row.end_date)\n",
    "\n",
    "    s1 = extractor.get_cube(connection, geometry, temporal_context)\n",
    "    s1 = s1.rename_labels(\"bands\", bands)\n",
    "    return s1\n",
    "\n",
    "def load_lc_features(\n",
    "    row: pd.Series,\n",
    "    connection : openeo.DataCube,\n",
    "    **kwargs\n",
    "):\n",
    "    geometry = geojson.loads(row.geometry)\n",
    "    \n",
    "    s2_collection = sentinel2_collection(\n",
    "        row=row,\n",
    "        connection=connection,\n",
    "        geometry=geometry\n",
    "    )\n",
    "\n",
    "    s1_collection = sentinel1_collection(\n",
    "        row=row,\n",
    "        connection=connection,\n",
    "        geometry=geometry\n",
    "    )\n",
    "\n",
    "    features = preprocess_features(s2_collection, s1_collection)\n",
    "\n",
    "    # Currently, aggregate_spatial and vectorcubes do not keep the band names, so we'll need to rename them later on\n",
    "    global final_band_names\n",
    "    final_band_names = [b.name for b in features.metadata.band_dimension.bands]\n",
    "\n",
    "    features = features.aggregate_spatial(geometry, reducer=\"median\")\n",
    "    \n",
    "    job_options = {\n",
    "        \"executor-memory\": \"3G\", # Increase this value if a job fails due to memory issues\n",
    "        \"executor-memoryOverhead\": \"2G\",\n",
    "        \"soft-errors\": True\n",
    "    }\n",
    "\n",
    "    return features.create_job(\n",
    "        out_format=\"csv\",\n",
    "        title=f\"GFMAP_Extraction_{geometry.features[0].properties['h3index']}\",\n",
    "        job_options=job_options,\n",
    "    )\n",
    "\n",
    "# Global variable to store the final band names\n",
    "final_band_names = None"
   ]
  },
  {
   "cell_type": "markdown",
   "id": "db6d48fd",
   "metadata": {},
   "source": [
    "### Launch the openEO jobs to fetch the data"
   ]
  },
  {
   "cell_type": "markdown",
   "id": "dcc6dcc6",
   "metadata": {},
   "source": [
    "In order to launch the jobs, we have to define a function that fill determine the outputfile name and create the job manager."
   ]
  },
  {
   "cell_type": "code",
   "execution_count": 9,
   "id": "716ae4e8",
   "metadata": {},
   "outputs": [],
   "source": [
    "def generate_output_path(\n",
    "    root_folder: Path,\n",
    "    tmp_path: Path,\n",
    "    geometry_index: int,\n",
    "    row: pd.Series\n",
    ") -> Path:\n",
    "    features = geojson.loads(row.geometry)\n",
    "    h3index = features[geometry_index].properties['h3index']\n",
    "    result = root_folder / f\"{row.out_prefix}_{h3index}_{geometry_index}{row.out_extension}\"\n",
    "    print(\"output_path:\", result)\n",
    "    return result"
   ]
  },
  {
   "cell_type": "code",
   "execution_count": 10,
   "id": "c7d289b7",
   "metadata": {
    "notebookRunGroups": {
     "groupValue": "2"
    }
   },
   "outputs": [
    {
     "name": "stdout",
     "output_type": "stream",
     "text": [
      "Timestr: 20240313-15h25\n"
     ]
    }
   ],
   "source": [
    "base_output_path = Path(\"output\")\n",
    "base_output_path.mkdir(exist_ok=True)\n",
    "\n",
    "timenow = datetime.datetime.now()\n",
    "timestr = timenow.strftime(\"%Y%m%d-%Hh%M\")\n",
    "print(f\"Timestr: {timestr}\")\n",
    "tracking_file = base_output_path / f\"tracking_{timestr}.csv\"\n"
   ]
  },
  {
   "cell_type": "code",
   "execution_count": 11,
   "id": "f6f7ab53",
   "metadata": {},
   "outputs": [],
   "source": [
    "manager = GFMAPJobManager(\n",
    "    output_dir=base_output_path / timestr,\n",
    "    output_path_generator=generate_output_path,\n",
    "    poll_sleep=60,\n",
    "    n_threads=1,\n",
    "    collection_id=\"LC_feature_extraction\",\n",
    ")"
   ]
  },
  {
   "cell_type": "code",
   "execution_count": 12,
   "id": "628675bf",
   "metadata": {},
   "outputs": [],
   "source": [
    "manager.add_backend(Backend.CDSE, cdse_connection, parallel_jobs=2)"
   ]
  },
  {
   "cell_type": "markdown",
   "id": "962704d4",
   "metadata": {},
   "source": [
    "We then run the prepared jobs."
   ]
  },
  {
   "cell_type": "code",
   "execution_count": 13,
   "id": "f328baa5",
   "metadata": {
    "notebookRunGroups": {
     "groupValue": "2"
    }
   },
   "outputs": [
    {
     "name": "stderr",
     "output_type": "stream",
     "text": [
      "2024-03-13 15:25:02,116|openeo_gfmap.manager|INFO:  Starting job manager using 1 worker threads.\n",
      "2024-03-13 15:25:02,119|openeo_gfmap.manager|INFO:  Workers started, creating and running jobs.\n",
      "2024-03-13 15:25:02,123|openeo_gfmap.manager|DEBUG:  Normalizing dataframe. Columns: Index(['out_prefix', 'out_extension', 'start_date', 'end_date', 'geometry',\n",
      "       'status', 'id', 'start_time', 'cpu', 'memory', 'duration',\n",
      "       'backend_name', 'description', 'costs'],\n",
      "      dtype='object')\n"
     ]
    },
    {
     "name": "stdout",
     "output_type": "stream",
     "text": [
      "Authenticated using refresh token.\n",
      "DataCube(<PGNode 'dimension_labels' at 0x23c2aa5afd0>)\n",
      "DataCube(<PGNode 'dimension_labels' at 0x23c2aa69ea0>)\n",
      "DataCube(<PGNode 'dimension_labels' at 0x23c2aa8fa70>)\n",
      "DataCube(<PGNode 'dimension_labels' at 0x23c2aa8ddb0>)\n"
     ]
    },
    {
     "name": "stderr",
     "output_type": "stream",
     "text": [
      "2024-03-13 15:26:38,688|openeo_gfmap.manager|DEBUG:  Status of job j-24031351b99d42edab6191abe29cb2df is running (on backend Backend.CDSE).\n",
      "2024-03-13 15:26:39,220|openeo_gfmap.manager|DEBUG:  Status of job j-2403132379804fc582d1d8a0f70f91bb is running (on backend Backend.CDSE).\n",
      "2024-03-13 15:27:41,293|openeo_gfmap.manager|DEBUG:  Status of job j-24031351b99d42edab6191abe29cb2df is running (on backend Backend.CDSE).\n",
      "2024-03-13 15:27:42,868|openeo_gfmap.manager|DEBUG:  Status of job j-2403132379804fc582d1d8a0f70f91bb is running (on backend Backend.CDSE).\n",
      "2024-03-13 15:28:43,635|openeo_gfmap.manager|DEBUG:  Status of job j-24031351b99d42edab6191abe29cb2df is running (on backend Backend.CDSE).\n",
      "2024-03-13 15:28:44,218|openeo_gfmap.manager|DEBUG:  Status of job j-2403132379804fc582d1d8a0f70f91bb is running (on backend Backend.CDSE).\n",
      "2024-03-13 15:29:44,670|openeo_gfmap.manager|DEBUG:  Status of job j-24031351b99d42edab6191abe29cb2df is running (on backend Backend.CDSE).\n",
      "2024-03-13 15:29:46,268|openeo_gfmap.manager|DEBUG:  Status of job j-2403132379804fc582d1d8a0f70f91bb is running (on backend Backend.CDSE).\n",
      "2024-03-13 15:30:51,451|openeo_gfmap.manager|DEBUG:  Status of job j-24031351b99d42edab6191abe29cb2df is running (on backend Backend.CDSE).\n",
      "2024-03-13 15:30:53,196|openeo_gfmap.manager|DEBUG:  Status of job j-2403132379804fc582d1d8a0f70f91bb is running (on backend Backend.CDSE).\n",
      "2024-03-13 15:31:53,679|openeo_gfmap.manager|DEBUG:  Status of job j-24031351b99d42edab6191abe29cb2df is running (on backend Backend.CDSE).\n",
      "2024-03-13 15:31:53,932|openeo_gfmap.manager|DEBUG:  Status of job j-2403132379804fc582d1d8a0f70f91bb is running (on backend Backend.CDSE).\n",
      "2024-03-13 15:32:59,977|openeo_gfmap.manager|DEBUG:  Status of job j-24031351b99d42edab6191abe29cb2df is running (on backend Backend.CDSE).\n",
      "2024-03-13 15:33:00,730|openeo_gfmap.manager|DEBUG:  Status of job j-2403132379804fc582d1d8a0f70f91bb is running (on backend Backend.CDSE).\n",
      "2024-03-13 15:34:01,288|openeo_gfmap.manager|DEBUG:  Status of job j-24031351b99d42edab6191abe29cb2df is running (on backend Backend.CDSE).\n",
      "2024-03-13 15:34:01,942|openeo_gfmap.manager|DEBUG:  Status of job j-2403132379804fc582d1d8a0f70f91bb is running (on backend Backend.CDSE).\n",
      "2024-03-13 15:35:02,447|openeo_gfmap.manager|DEBUG:  Status of job j-24031351b99d42edab6191abe29cb2df is running (on backend Backend.CDSE).\n",
      "2024-03-13 15:35:03,132|openeo_gfmap.manager|DEBUG:  Status of job j-2403132379804fc582d1d8a0f70f91bb is running (on backend Backend.CDSE).\n",
      "2024-03-13 15:36:03,544|openeo_gfmap.manager|DEBUG:  Status of job j-24031351b99d42edab6191abe29cb2df is running (on backend Backend.CDSE).\n",
      "2024-03-13 15:36:03,755|openeo_gfmap.manager|DEBUG:  Status of job j-2403132379804fc582d1d8a0f70f91bb is running (on backend Backend.CDSE).\n",
      "2024-03-13 15:37:03,994|openeo_gfmap.manager|DEBUG:  Status of job j-24031351b99d42edab6191abe29cb2df is running (on backend Backend.CDSE).\n",
      "2024-03-13 15:37:04,741|openeo_gfmap.manager|DEBUG:  Status of job j-2403132379804fc582d1d8a0f70f91bb is running (on backend Backend.CDSE).\n",
      "2024-03-13 15:38:05,055|openeo_gfmap.manager|DEBUG:  Status of job j-24031351b99d42edab6191abe29cb2df is running (on backend Backend.CDSE).\n",
      "2024-03-13 15:38:05,330|openeo_gfmap.manager|DEBUG:  Status of job j-2403132379804fc582d1d8a0f70f91bb is running (on backend Backend.CDSE).\n",
      "2024-03-13 15:39:05,716|openeo_gfmap.manager|DEBUG:  Status of job j-24031351b99d42edab6191abe29cb2df is running (on backend Backend.CDSE).\n",
      "2024-03-13 15:39:05,983|openeo_gfmap.manager|DEBUG:  Status of job j-2403132379804fc582d1d8a0f70f91bb is running (on backend Backend.CDSE).\n",
      "2024-03-13 15:40:06,411|openeo_gfmap.manager|DEBUG:  Status of job j-24031351b99d42edab6191abe29cb2df is running (on backend Backend.CDSE).\n",
      "2024-03-13 15:40:06,630|openeo_gfmap.manager|DEBUG:  Status of job j-2403132379804fc582d1d8a0f70f91bb is running (on backend Backend.CDSE).\n",
      "2024-03-13 15:41:07,699|openeo_gfmap.manager|DEBUG:  Status of job j-24031351b99d42edab6191abe29cb2df is finished (on backend Backend.CDSE).\n",
      "2024-03-13 15:41:07,700|openeo_gfmap.manager|INFO:  Job j-24031351b99d42edab6191abe29cb2df finished successfully, queueing on_job_done...\n",
      "2024-03-13 15:41:07,706|openeo_gfmap.manager|DEBUG:  Worker thread Thread-5 (_post_job_worker): polled finished job with status PostJobStatus.FINISHED.\n",
      "2024-03-13 15:41:08,000|openeo_gfmap.manager|DEBUG:  Status of job j-2403132379804fc582d1d8a0f70f91bb is running (on backend Backend.CDSE).\n"
     ]
    },
    {
     "name": "stdout",
     "output_type": "stream",
     "text": [
      "DataCube(<PGNode 'dimension_labels' at 0x23c2aabc410>)\n",
      "DataCube(<PGNode 'dimension_labels' at 0x23c2aabd720>)\n"
     ]
    },
    {
     "name": "stderr",
     "output_type": "stream",
     "text": [
      "2024-03-13 15:41:09,660|openeo_gfmap.manager|DEBUG:  Generating output path for asset timeseries.csv from job j-24031351b99d42edab6191abe29cb2df...\n",
      "2024-03-13 15:41:09,663|openeo_gfmap.manager|DEBUG:  Downloading asset timeseries.csv from job j-24031351b99d42edab6191abe29cb2df -> output\\20240313-15h25\\S1S2-stats_841fa01ffffffff_0.csv\n"
     ]
    },
    {
     "name": "stdout",
     "output_type": "stream",
     "text": [
      "output_path: output\\20240313-15h25\\S1S2-stats_841fa01ffffffff_0.csv\n"
     ]
    },
    {
     "name": "stderr",
     "output_type": "stream",
     "text": [
      "2024-03-13 15:41:10,809|openeo_gfmap.manager|INFO:  Downloaded asset timeseries.csv from job j-24031351b99d42edab6191abe29cb2df -> output\\20240313-15h25\\S1S2-stats_841fa01ffffffff_0.csv\n",
      "2024-03-13 15:41:12,974|openeo_gfmap.manager|INFO:  Added 0 items to the STAC collection.\n",
      "2024-03-13 15:41:12,976|openeo_gfmap.manager|INFO:  Job j-24031351b99d42edab6191abe29cb2df and post job action finished successfully.\n",
      "2024-03-13 15:42:23,309|openeo_gfmap.manager|DEBUG:  Status of job j-2403132379804fc582d1d8a0f70f91bb is running (on backend Backend.CDSE).\n",
      "2024-03-13 15:42:24,726|openeo_gfmap.manager|DEBUG:  Status of job j-24031367e1d04f1986cda2836e72c6d5 is running (on backend Backend.CDSE).\n",
      "2024-03-13 15:43:25,173|openeo_gfmap.manager|DEBUG:  Status of job j-2403132379804fc582d1d8a0f70f91bb is running (on backend Backend.CDSE).\n",
      "2024-03-13 15:43:25,508|openeo_gfmap.manager|DEBUG:  Status of job j-24031367e1d04f1986cda2836e72c6d5 is running (on backend Backend.CDSE).\n",
      "2024-03-13 15:44:25,748|openeo_gfmap.manager|DEBUG:  Status of job j-2403132379804fc582d1d8a0f70f91bb is running (on backend Backend.CDSE).\n",
      "2024-03-13 15:44:26,083|openeo_gfmap.manager|DEBUG:  Status of job j-24031367e1d04f1986cda2836e72c6d5 is running (on backend Backend.CDSE).\n",
      "2024-03-13 15:45:26,485|openeo_gfmap.manager|DEBUG:  Status of job j-2403132379804fc582d1d8a0f70f91bb is finished (on backend Backend.CDSE).\n",
      "2024-03-13 15:45:26,486|openeo_gfmap.manager|INFO:  Job j-2403132379804fc582d1d8a0f70f91bb finished successfully, queueing on_job_done...\n",
      "2024-03-13 15:45:26,490|openeo_gfmap.manager|DEBUG:  Worker thread Thread-5 (_post_job_worker): polled finished job with status PostJobStatus.FINISHED.\n",
      "2024-03-13 15:45:26,868|openeo_gfmap.manager|DEBUG:  Status of job j-24031367e1d04f1986cda2836e72c6d5 is running (on backend Backend.CDSE).\n"
     ]
    },
    {
     "name": "stdout",
     "output_type": "stream",
     "text": [
      "DataCube(<PGNode 'dimension_labels' at 0x23c2aabcff0>)\n",
      "DataCube(<PGNode 'dimension_labels' at 0x23c2aabd310>)\n"
     ]
    },
    {
     "name": "stderr",
     "output_type": "stream",
     "text": [
      "2024-03-13 15:45:27,939|openeo_gfmap.manager|DEBUG:  Generating output path for asset timeseries.csv from job j-2403132379804fc582d1d8a0f70f91bb...\n",
      "2024-03-13 15:45:27,941|openeo_gfmap.manager|DEBUG:  Downloading asset timeseries.csv from job j-2403132379804fc582d1d8a0f70f91bb -> output\\20240313-15h25\\S1S2-stats_841fa05ffffffff_0.csv\n"
     ]
    },
    {
     "name": "stdout",
     "output_type": "stream",
     "text": [
      "output_path: output\\20240313-15h25\\S1S2-stats_841fa05ffffffff_0.csv\n"
     ]
    },
    {
     "name": "stderr",
     "output_type": "stream",
     "text": [
      "2024-03-13 15:45:28,831|openeo_gfmap.manager|INFO:  Downloaded asset timeseries.csv from job j-2403132379804fc582d1d8a0f70f91bb -> output\\20240313-15h25\\S1S2-stats_841fa05ffffffff_0.csv\n",
      "2024-03-13 15:45:30,266|openeo_gfmap.manager|INFO:  Added 0 items to the STAC collection.\n",
      "2024-03-13 15:45:30,267|openeo_gfmap.manager|INFO:  Job j-2403132379804fc582d1d8a0f70f91bb and post job action finished successfully.\n",
      "2024-03-13 15:46:46,334|openeo_gfmap.manager|DEBUG:  Status of job j-24031367e1d04f1986cda2836e72c6d5 is running (on backend Backend.CDSE).\n",
      "2024-03-13 15:46:46,754|openeo_gfmap.manager|DEBUG:  Status of job j-240313c5da8b4937a5dc258ac40044c0 is running (on backend Backend.CDSE).\n",
      "2024-03-13 15:47:47,197|openeo_gfmap.manager|DEBUG:  Status of job j-24031367e1d04f1986cda2836e72c6d5 is running (on backend Backend.CDSE).\n",
      "2024-03-13 15:47:48,297|openeo_gfmap.manager|DEBUG:  Status of job j-240313c5da8b4937a5dc258ac40044c0 is running (on backend Backend.CDSE).\n",
      "2024-03-13 15:49:02,855|openeo_gfmap.manager|DEBUG:  Status of job j-24031367e1d04f1986cda2836e72c6d5 is running (on backend Backend.CDSE).\n",
      "2024-03-13 15:49:03,459|openeo_gfmap.manager|DEBUG:  Status of job j-240313c5da8b4937a5dc258ac40044c0 is running (on backend Backend.CDSE).\n",
      "2024-03-13 15:50:05,029|openeo_gfmap.manager|DEBUG:  Status of job j-24031367e1d04f1986cda2836e72c6d5 is running (on backend Backend.CDSE).\n",
      "2024-03-13 15:50:05,942|openeo_gfmap.manager|DEBUG:  Status of job j-240313c5da8b4937a5dc258ac40044c0 is running (on backend Backend.CDSE).\n",
      "2024-03-13 15:51:06,282|openeo_gfmap.manager|DEBUG:  Status of job j-24031367e1d04f1986cda2836e72c6d5 is running (on backend Backend.CDSE).\n",
      "2024-03-13 15:51:06,545|openeo_gfmap.manager|DEBUG:  Status of job j-240313c5da8b4937a5dc258ac40044c0 is running (on backend Backend.CDSE).\n",
      "2024-03-13 15:52:13,380|openeo_gfmap.manager|DEBUG:  Status of job j-24031367e1d04f1986cda2836e72c6d5 is running (on backend Backend.CDSE).\n",
      "2024-03-13 15:52:14,867|openeo_gfmap.manager|DEBUG:  Status of job j-240313c5da8b4937a5dc258ac40044c0 is running (on backend Backend.CDSE).\n",
      "2024-03-13 15:53:16,372|openeo_gfmap.manager|DEBUG:  Status of job j-24031367e1d04f1986cda2836e72c6d5 is running (on backend Backend.CDSE).\n",
      "2024-03-13 15:53:16,922|openeo_gfmap.manager|DEBUG:  Status of job j-240313c5da8b4937a5dc258ac40044c0 is running (on backend Backend.CDSE).\n",
      "2024-03-13 15:54:19,027|openeo_gfmap.manager|DEBUG:  Status of job j-24031367e1d04f1986cda2836e72c6d5 is running (on backend Backend.CDSE).\n",
      "2024-03-13 15:54:20,549|openeo_gfmap.manager|DEBUG:  Status of job j-240313c5da8b4937a5dc258ac40044c0 is running (on backend Backend.CDSE).\n",
      "2024-03-13 15:55:21,166|openeo_gfmap.manager|DEBUG:  Status of job j-24031367e1d04f1986cda2836e72c6d5 is running (on backend Backend.CDSE).\n",
      "2024-03-13 15:55:21,902|openeo_gfmap.manager|DEBUG:  Status of job j-240313c5da8b4937a5dc258ac40044c0 is running (on backend Backend.CDSE).\n",
      "2024-03-13 15:56:22,522|openeo_gfmap.manager|DEBUG:  Status of job j-24031367e1d04f1986cda2836e72c6d5 is running (on backend Backend.CDSE).\n",
      "2024-03-13 15:56:23,093|openeo_gfmap.manager|DEBUG:  Status of job j-240313c5da8b4937a5dc258ac40044c0 is running (on backend Backend.CDSE).\n",
      "2024-03-13 15:57:23,655|openeo_gfmap.manager|DEBUG:  Status of job j-24031367e1d04f1986cda2836e72c6d5 is running (on backend Backend.CDSE).\n",
      "2024-03-13 15:57:24,013|openeo_gfmap.manager|DEBUG:  Status of job j-240313c5da8b4937a5dc258ac40044c0 is running (on backend Backend.CDSE).\n",
      "2024-03-13 15:58:24,466|openeo_gfmap.manager|DEBUG:  Status of job j-24031367e1d04f1986cda2836e72c6d5 is running (on backend Backend.CDSE).\n",
      "2024-03-13 15:58:25,078|openeo_gfmap.manager|DEBUG:  Status of job j-240313c5da8b4937a5dc258ac40044c0 is running (on backend Backend.CDSE).\n",
      "2024-03-13 15:59:26,557|openeo_gfmap.manager|DEBUG:  Status of job j-24031367e1d04f1986cda2836e72c6d5 is running (on backend Backend.CDSE).\n",
      "2024-03-13 16:00:04,465|openeo_gfmap.manager|DEBUG:  Status of job j-240313c5da8b4937a5dc258ac40044c0 is running (on backend Backend.CDSE).\n",
      "2024-03-13 16:01:05,064|openeo_gfmap.manager|DEBUG:  Status of job j-24031367e1d04f1986cda2836e72c6d5 is running (on backend Backend.CDSE).\n",
      "2024-03-13 16:01:37,557|openeo_gfmap.manager|DEBUG:  Status of job j-240313c5da8b4937a5dc258ac40044c0 is running (on backend Backend.CDSE).\n",
      "2024-03-13 16:02:38,631|openeo_gfmap.manager|DEBUG:  Status of job j-24031367e1d04f1986cda2836e72c6d5 is running (on backend Backend.CDSE).\n",
      "2024-03-13 16:03:25,636|openeo_gfmap.manager|DEBUG:  Status of job j-240313c5da8b4937a5dc258ac40044c0 is running (on backend Backend.CDSE).\n",
      "2024-03-13 16:05:01,204|openeo_gfmap.manager|DEBUG:  Status of job j-24031367e1d04f1986cda2836e72c6d5 is running (on backend Backend.CDSE).\n",
      "2024-03-13 16:05:12,757|openeo_gfmap.manager|DEBUG:  Status of job j-240313c5da8b4937a5dc258ac40044c0 is running (on backend Backend.CDSE).\n",
      "2024-03-13 16:06:13,212|openeo_gfmap.manager|DEBUG:  Status of job j-24031367e1d04f1986cda2836e72c6d5 is running (on backend Backend.CDSE).\n",
      "2024-03-13 16:06:13,739|openeo_gfmap.manager|DEBUG:  Status of job j-240313c5da8b4937a5dc258ac40044c0 is running (on backend Backend.CDSE).\n",
      "2024-03-13 16:07:14,746|openeo_gfmap.manager|DEBUG:  Status of job j-24031367e1d04f1986cda2836e72c6d5 is running (on backend Backend.CDSE).\n",
      "2024-03-13 16:07:15,195|openeo_gfmap.manager|DEBUG:  Status of job j-240313c5da8b4937a5dc258ac40044c0 is running (on backend Backend.CDSE).\n",
      "2024-03-13 16:08:15,970|openeo_gfmap.manager|DEBUG:  Status of job j-24031367e1d04f1986cda2836e72c6d5 is running (on backend Backend.CDSE).\n",
      "2024-03-13 16:08:16,393|openeo_gfmap.manager|DEBUG:  Status of job j-240313c5da8b4937a5dc258ac40044c0 is running (on backend Backend.CDSE).\n",
      "2024-03-13 16:09:17,738|openeo_gfmap.manager|DEBUG:  Status of job j-24031367e1d04f1986cda2836e72c6d5 is running (on backend Backend.CDSE).\n",
      "2024-03-13 16:09:18,520|openeo_gfmap.manager|DEBUG:  Status of job j-240313c5da8b4937a5dc258ac40044c0 is running (on backend Backend.CDSE).\n",
      "2024-03-13 16:11:23,918|openeo_gfmap.manager|DEBUG:  Status of job j-24031367e1d04f1986cda2836e72c6d5 is running (on backend Backend.CDSE).\n",
      "2024-03-13 16:11:32,174|openeo_gfmap.manager|DEBUG:  Status of job j-240313c5da8b4937a5dc258ac40044c0 is running (on backend Backend.CDSE).\n",
      "2024-03-13 16:13:17,346|openeo_gfmap.manager|DEBUG:  Status of job j-24031367e1d04f1986cda2836e72c6d5 is finished (on backend Backend.CDSE).\n",
      "2024-03-13 16:13:17,348|openeo_gfmap.manager|INFO:  Job j-24031367e1d04f1986cda2836e72c6d5 finished successfully, queueing on_job_done...\n",
      "2024-03-13 16:13:17,351|openeo_gfmap.manager|DEBUG:  Worker thread Thread-5 (_post_job_worker): polled finished job with status PostJobStatus.FINISHED.\n",
      "2024-03-13 16:13:21,403|openeo_gfmap.manager|DEBUG:  Generating output path for asset timeseries.csv from job j-24031367e1d04f1986cda2836e72c6d5...\n",
      "2024-03-13 16:13:21,407|openeo_gfmap.manager|DEBUG:  Downloading asset timeseries.csv from job j-24031367e1d04f1986cda2836e72c6d5 -> output\\20240313-15h25\\S1S2-stats_841fa09ffffffff_0.csv\n"
     ]
    },
    {
     "name": "stdout",
     "output_type": "stream",
     "text": [
      "output_path: output\\20240313-15h25\\S1S2-stats_841fa09ffffffff_0.csv\n"
     ]
    },
    {
     "name": "stderr",
     "output_type": "stream",
     "text": [
      "2024-03-13 16:13:22,224|openeo_gfmap.manager|INFO:  Downloaded asset timeseries.csv from job j-24031367e1d04f1986cda2836e72c6d5 -> output\\20240313-15h25\\S1S2-stats_841fa09ffffffff_0.csv\n",
      "2024-03-13 16:13:23,580|openeo_gfmap.manager|DEBUG:  Status of job j-240313c5da8b4937a5dc258ac40044c0 is running (on backend Backend.CDSE).\n"
     ]
    },
    {
     "name": "stdout",
     "output_type": "stream",
     "text": [
      "DataCube(<PGNode 'dimension_labels' at 0x23c2aabdea0>)\n",
      "DataCube(<PGNode 'dimension_labels' at 0x23c2ab548c0>)\n"
     ]
    },
    {
     "name": "stderr",
     "output_type": "stream",
     "text": [
      "2024-03-13 16:14:47,593|openeo_gfmap.manager|INFO:  Added 0 items to the STAC collection.\n",
      "2024-03-13 16:14:47,596|openeo_gfmap.manager|INFO:  Job j-24031367e1d04f1986cda2836e72c6d5 and post job action finished successfully.\n",
      "2024-03-13 16:16:24,207|openeo_gfmap.manager|DEBUG:  Status of job j-240313c5da8b4937a5dc258ac40044c0 is running (on backend Backend.CDSE).\n",
      "2024-03-13 16:16:43,128|openeo_gfmap.manager|DEBUG:  Status of job j-240313c94f574951a60df88536847159 is running (on backend Backend.CDSE).\n",
      "2024-03-13 16:17:45,775|openeo_gfmap.manager|DEBUG:  Status of job j-240313c5da8b4937a5dc258ac40044c0 is running (on backend Backend.CDSE).\n",
      "2024-03-13 16:17:49,244|openeo_gfmap.manager|DEBUG:  Status of job j-240313c94f574951a60df88536847159 is running (on backend Backend.CDSE).\n",
      "2024-03-13 16:18:49,538|openeo_gfmap.manager|DEBUG:  Status of job j-240313c5da8b4937a5dc258ac40044c0 is running (on backend Backend.CDSE).\n",
      "2024-03-13 16:18:54,556|openeo_gfmap.manager|DEBUG:  Status of job j-240313c94f574951a60df88536847159 is running (on backend Backend.CDSE).\n",
      "2024-03-13 16:19:55,129|openeo_gfmap.manager|DEBUG:  Status of job j-240313c5da8b4937a5dc258ac40044c0 is running (on backend Backend.CDSE).\n",
      "2024-03-13 16:19:55,895|openeo_gfmap.manager|DEBUG:  Status of job j-240313c94f574951a60df88536847159 is running (on backend Backend.CDSE).\n",
      "Ignoring connection error (context get statuses): HTTPSConnectionPool(host='openeo.dataspace.copernicus.eu', port=443): Max retries exceeded with url: /openeo/1.2/jobs/j-240313c5da8b4937a5dc258ac40044c0 (Caused by NameResolutionError(\"<urllib3.connection.HTTPSConnection object at 0x0000023C2AA670D0>: Failed to resolve 'openeo.dataspace.copernicus.eu' ([Errno 11001] getaddrinfo failed)\"))\n",
      "2024-03-13 19:52:31,700|openeo_gfmap.manager|DEBUG:  Status of job j-240313c5da8b4937a5dc258ac40044c0 is finished (on backend Backend.CDSE).\n",
      "2024-03-13 19:52:31,700|openeo_gfmap.manager|INFO:  Job j-240313c5da8b4937a5dc258ac40044c0 finished successfully, queueing on_job_done...\n",
      "2024-03-13 19:52:31,700|openeo_gfmap.manager|DEBUG:  Worker thread Thread-5 (_post_job_worker): polled finished job with status PostJobStatus.FINISHED.\n",
      "2024-03-13 19:52:33,603|openeo_gfmap.manager|DEBUG:  Generating output path for asset timeseries.csv from job j-240313c5da8b4937a5dc258ac40044c0...\n",
      "2024-03-13 19:52:33,616|openeo_gfmap.manager|DEBUG:  Downloading asset timeseries.csv from job j-240313c5da8b4937a5dc258ac40044c0 -> output\\20240313-15h25\\S1S2-stats_841fa0dffffffff_0.csv\n"
     ]
    },
    {
     "name": "stdout",
     "output_type": "stream",
     "text": [
      "output_path: output\\20240313-15h25\\S1S2-stats_841fa0dffffffff_0.csv\n"
     ]
    },
    {
     "name": "stderr",
     "output_type": "stream",
     "text": [
      "2024-03-13 19:52:34,919|openeo_gfmap.manager|DEBUG:  Status of job j-240313c94f574951a60df88536847159 is finished (on backend Backend.CDSE).\n",
      "2024-03-13 19:52:34,919|openeo_gfmap.manager|INFO:  Job j-240313c94f574951a60df88536847159 finished successfully, queueing on_job_done...\n"
     ]
    },
    {
     "name": "stdout",
     "output_type": "stream",
     "text": [
      "DataCube(<PGNode 'dimension_labels' at 0x23c2aabe670>)\n",
      "DataCube(<PGNode 'dimension_labels' at 0x23c2aabe2b0>)\n"
     ]
    },
    {
     "name": "stderr",
     "output_type": "stream",
     "text": [
      "2024-03-13 19:52:35,965|openeo_gfmap.manager|INFO:  Downloaded asset timeseries.csv from job j-240313c5da8b4937a5dc258ac40044c0 -> output\\20240313-15h25\\S1S2-stats_841fa0dffffffff_0.csv\n",
      "2024-03-13 19:52:39,244|openeo_gfmap.manager|INFO:  Added 0 items to the STAC collection.\n",
      "2024-03-13 19:52:39,244|openeo_gfmap.manager|INFO:  Job j-240313c5da8b4937a5dc258ac40044c0 and post job action finished successfully.\n",
      "2024-03-13 19:52:39,244|openeo_gfmap.manager|DEBUG:  Worker thread Thread-5 (_post_job_worker): polled finished job with status PostJobStatus.FINISHED.\n",
      "2024-03-13 19:52:41,182|openeo_gfmap.manager|DEBUG:  Generating output path for asset timeseries.csv from job j-240313c94f574951a60df88536847159...\n",
      "2024-03-13 19:52:41,182|openeo_gfmap.manager|DEBUG:  Downloading asset timeseries.csv from job j-240313c94f574951a60df88536847159 -> output\\20240313-15h25\\S1S2-stats_841fa41ffffffff_0.csv\n"
     ]
    },
    {
     "name": "stdout",
     "output_type": "stream",
     "text": [
      "output_path: output\\20240313-15h25\\S1S2-stats_841fa41ffffffff_0.csv\n",
      "DataCube(<PGNode 'dimension_labels' at 0x23c2ab86940>)\n",
      "DataCube(<PGNode 'dimension_labels' at 0x23c2ab872f0>)\n"
     ]
    },
    {
     "name": "stderr",
     "output_type": "stream",
     "text": [
      "2024-03-13 19:53:05,900|openeo_gfmap.manager|INFO:  Downloaded asset timeseries.csv from job j-240313c94f574951a60df88536847159 -> output\\20240313-15h25\\S1S2-stats_841fa41ffffffff_0.csv\n",
      "2024-03-13 19:53:07,956|openeo_gfmap.manager|INFO:  Added 0 items to the STAC collection.\n",
      "2024-03-13 19:53:07,957|openeo_gfmap.manager|INFO:  Job j-240313c94f574951a60df88536847159 and post job action finished successfully.\n",
      "2024-03-13 19:54:22,051|openeo_gfmap.manager|DEBUG:  Status of job j-240313acfc5c4008b960ae613a47780f is running (on backend Backend.CDSE).\n",
      "2024-03-13 19:54:22,551|openeo_gfmap.manager|DEBUG:  Status of job j-24031327147749e092bd2c6a7e827cd2 is running (on backend Backend.CDSE).\n",
      "2024-03-13 19:55:23,341|openeo_gfmap.manager|DEBUG:  Status of job j-240313acfc5c4008b960ae613a47780f is running (on backend Backend.CDSE).\n",
      "2024-03-13 19:55:23,842|openeo_gfmap.manager|DEBUG:  Status of job j-24031327147749e092bd2c6a7e827cd2 is running (on backend Backend.CDSE).\n",
      "Ignoring connection error (context get statuses): HTTPSConnectionPool(host='openeo.dataspace.copernicus.eu', port=443): Max retries exceeded with url: /openeo/1.2/jobs/j-240313acfc5c4008b960ae613a47780f (Caused by NameResolutionError(\"<urllib3.connection.HTTPSConnection object at 0x0000023C2AAB48D0>: Failed to resolve 'openeo.dataspace.copernicus.eu' ([Errno 11001] getaddrinfo failed)\"))\n",
      "2024-03-15 08:59:24,241|openeo_gfmap.manager|DEBUG:  Status of job j-240313acfc5c4008b960ae613a47780f is finished (on backend Backend.CDSE).\n",
      "2024-03-15 08:59:24,241|openeo_gfmap.manager|INFO:  Job j-240313acfc5c4008b960ae613a47780f finished successfully, queueing on_job_done...\n",
      "2024-03-15 08:59:24,241|openeo_gfmap.manager|DEBUG:  Worker thread Thread-5 (_post_job_worker): polled finished job with status PostJobStatus.FINISHED.\n",
      "2024-03-15 08:59:33,307|openeo_gfmap.manager|DEBUG:  Status of job j-24031327147749e092bd2c6a7e827cd2 is finished (on backend Backend.CDSE).\n",
      "2024-03-15 08:59:33,307|openeo_gfmap.manager|INFO:  Job j-24031327147749e092bd2c6a7e827cd2 finished successfully, queueing on_job_done...\n"
     ]
    },
    {
     "name": "stdout",
     "output_type": "stream",
     "text": [
      "DataCube(<PGNode 'dimension_labels' at 0x23c2aae0c30>)\n",
      "DataCube(<PGNode 'dimension_labels' at 0x23c2aae2670>)\n"
     ]
    },
    {
     "name": "stderr",
     "output_type": "stream",
     "text": [
      "2024-03-15 08:59:42,316|openeo_gfmap.manager|DEBUG:  Generating output path for asset timeseries.csv from job j-240313acfc5c4008b960ae613a47780f...\n",
      "2024-03-15 08:59:42,325|openeo_gfmap.manager|DEBUG:  Downloading asset timeseries.csv from job j-240313acfc5c4008b960ae613a47780f -> output\\20240313-15h25\\S1S2-stats_841fa43ffffffff_0.csv\n"
     ]
    },
    {
     "name": "stdout",
     "output_type": "stream",
     "text": [
      "output_path: output\\20240313-15h25\\S1S2-stats_841fa43ffffffff_0.csv\n",
      "DataCube(<PGNode 'dimension_labels' at 0x23c2aae14a0>)\n",
      "DataCube(<PGNode 'dimension_labels' at 0x23c2aad47d0>)\n"
     ]
    },
    {
     "name": "stderr",
     "output_type": "stream",
     "text": [
      "2024-03-15 08:59:59,559|openeo_gfmap.manager|INFO:  Downloaded asset timeseries.csv from job j-240313acfc5c4008b960ae613a47780f -> output\\20240313-15h25\\S1S2-stats_841fa43ffffffff_0.csv\n",
      "2024-03-15 09:00:50,444|openeo_gfmap.manager|INFO:  Added 0 items to the STAC collection.\n",
      "2024-03-15 09:00:50,444|openeo_gfmap.manager|INFO:  Job j-240313acfc5c4008b960ae613a47780f and post job action finished successfully.\n",
      "2024-03-15 09:00:50,444|openeo_gfmap.manager|DEBUG:  Worker thread Thread-5 (_post_job_worker): polled finished job with status PostJobStatus.FINISHED.\n",
      "2024-03-15 09:01:33,260|openeo_gfmap.manager|DEBUG:  Status of job j-240315c62071442abde062b425dc268f is created (on backend Backend.CDSE).\n",
      "2024-03-15 09:01:35,001|openeo_gfmap.manager|DEBUG:  Status of job j-24031513bf6b4a62a936968d9566e7a8 is created (on backend Backend.CDSE).\n",
      "2024-03-15 09:02:14,271|openeo_gfmap.manager|DEBUG:  Generating output path for asset timeseries.csv from job j-24031327147749e092bd2c6a7e827cd2...\n",
      "2024-03-15 09:02:14,271|openeo_gfmap.manager|DEBUG:  Downloading asset timeseries.csv from job j-24031327147749e092bd2c6a7e827cd2 -> output\\20240313-15h25\\S1S2-stats_841fa45ffffffff_0.csv\n"
     ]
    },
    {
     "name": "stdout",
     "output_type": "stream",
     "text": [
      "output_path: output\\20240313-15h25\\S1S2-stats_841fa45ffffffff_0.csv\n"
     ]
    },
    {
     "name": "stderr",
     "output_type": "stream",
     "text": [
      "2024-03-15 09:02:22,149|openeo_gfmap.manager|INFO:  Downloaded asset timeseries.csv from job j-24031327147749e092bd2c6a7e827cd2 -> output\\20240313-15h25\\S1S2-stats_841fa45ffffffff_0.csv\n",
      "2024-03-15 09:02:35,597|openeo_gfmap.manager|DEBUG:  Status of job j-240315c62071442abde062b425dc268f is running (on backend Backend.CDSE).\n",
      "2024-03-15 09:02:36,384|openeo_gfmap.manager|DEBUG:  Status of job j-24031513bf6b4a62a936968d9566e7a8 is running (on backend Backend.CDSE).\n",
      "2024-03-15 09:02:41,115|openeo_gfmap.manager|INFO:  Added 0 items to the STAC collection.\n",
      "2024-03-15 09:02:41,115|openeo_gfmap.manager|INFO:  Job j-24031327147749e092bd2c6a7e827cd2 and post job action finished successfully.\n",
      "2024-03-15 09:03:37,460|openeo_gfmap.manager|DEBUG:  Status of job j-240315c62071442abde062b425dc268f is running (on backend Backend.CDSE).\n",
      "2024-03-15 09:03:37,789|openeo_gfmap.manager|DEBUG:  Status of job j-24031513bf6b4a62a936968d9566e7a8 is running (on backend Backend.CDSE).\n",
      "2024-03-15 09:04:38,587|openeo_gfmap.manager|DEBUG:  Status of job j-240315c62071442abde062b425dc268f is running (on backend Backend.CDSE).\n",
      "2024-03-15 09:04:38,798|openeo_gfmap.manager|DEBUG:  Status of job j-24031513bf6b4a62a936968d9566e7a8 is running (on backend Backend.CDSE).\n",
      "2024-03-15 09:05:39,250|openeo_gfmap.manager|DEBUG:  Status of job j-240315c62071442abde062b425dc268f is running (on backend Backend.CDSE).\n",
      "2024-03-15 09:05:39,722|openeo_gfmap.manager|DEBUG:  Status of job j-24031513bf6b4a62a936968d9566e7a8 is running (on backend Backend.CDSE).\n",
      "2024-03-15 09:06:40,319|openeo_gfmap.manager|DEBUG:  Status of job j-240315c62071442abde062b425dc268f is running (on backend Backend.CDSE).\n",
      "2024-03-15 09:06:40,668|openeo_gfmap.manager|DEBUG:  Status of job j-24031513bf6b4a62a936968d9566e7a8 is running (on backend Backend.CDSE).\n",
      "2024-03-15 09:07:47,204|openeo_gfmap.manager|DEBUG:  Status of job j-240315c62071442abde062b425dc268f is running (on backend Backend.CDSE).\n",
      "2024-03-15 09:07:47,512|openeo_gfmap.manager|DEBUG:  Status of job j-24031513bf6b4a62a936968d9566e7a8 is running (on backend Backend.CDSE).\n",
      "2024-03-15 09:08:48,080|openeo_gfmap.manager|DEBUG:  Status of job j-240315c62071442abde062b425dc268f is running (on backend Backend.CDSE).\n",
      "2024-03-15 09:08:48,986|openeo_gfmap.manager|DEBUG:  Status of job j-24031513bf6b4a62a936968d9566e7a8 is running (on backend Backend.CDSE).\n",
      "2024-03-15 09:09:49,490|openeo_gfmap.manager|DEBUG:  Status of job j-240315c62071442abde062b425dc268f is running (on backend Backend.CDSE).\n",
      "2024-03-15 09:09:49,907|openeo_gfmap.manager|DEBUG:  Status of job j-24031513bf6b4a62a936968d9566e7a8 is running (on backend Backend.CDSE).\n",
      "2024-03-15 09:10:50,658|openeo_gfmap.manager|DEBUG:  Status of job j-240315c62071442abde062b425dc268f is running (on backend Backend.CDSE).\n",
      "2024-03-15 09:10:51,821|openeo_gfmap.manager|DEBUG:  Status of job j-24031513bf6b4a62a936968d9566e7a8 is finished (on backend Backend.CDSE).\n",
      "2024-03-15 09:10:51,821|openeo_gfmap.manager|INFO:  Job j-24031513bf6b4a62a936968d9566e7a8 finished successfully, queueing on_job_done...\n",
      "2024-03-15 09:10:51,821|openeo_gfmap.manager|DEBUG:  Worker thread Thread-5 (_post_job_worker): polled finished job with status PostJobStatus.FINISHED.\n"
     ]
    },
    {
     "name": "stdout",
     "output_type": "stream",
     "text": [
      "DataCube(<PGNode 'dimension_labels' at 0x23c2aaf21c0>)\n",
      "DataCube(<PGNode 'dimension_labels' at 0x23c2aaf13b0>)\n"
     ]
    },
    {
     "name": "stderr",
     "output_type": "stream",
     "text": [
      "2024-03-15 09:11:07,515|openeo_gfmap.manager|DEBUG:  Generating output path for asset timeseries.csv from job j-24031513bf6b4a62a936968d9566e7a8...\n",
      "2024-03-15 09:11:07,515|openeo_gfmap.manager|DEBUG:  Downloading asset timeseries.csv from job j-24031513bf6b4a62a936968d9566e7a8 -> output\\20240313-15h25\\S1S2-stats_841fa61ffffffff_0.csv\n"
     ]
    },
    {
     "name": "stdout",
     "output_type": "stream",
     "text": [
      "output_path: output\\20240313-15h25\\S1S2-stats_841fa61ffffffff_0.csv\n"
     ]
    },
    {
     "name": "stderr",
     "output_type": "stream",
     "text": [
      "2024-03-15 09:11:45,806|openeo_gfmap.manager|INFO:  Downloaded asset timeseries.csv from job j-24031513bf6b4a62a936968d9566e7a8 -> output\\20240313-15h25\\S1S2-stats_841fa61ffffffff_0.csv\n",
      "2024-03-15 09:12:16,393|openeo_gfmap.manager|INFO:  Added 0 items to the STAC collection.\n",
      "2024-03-15 09:12:16,393|openeo_gfmap.manager|INFO:  Job j-24031513bf6b4a62a936968d9566e7a8 and post job action finished successfully.\n",
      "2024-03-15 09:12:51,029|openeo_gfmap.manager|DEBUG:  Status of job j-240315c62071442abde062b425dc268f is running (on backend Backend.CDSE).\n",
      "2024-03-15 09:12:51,630|openeo_gfmap.manager|DEBUG:  Status of job j-24031578e8fc4dcd8a79ab170a80a046 is running (on backend Backend.CDSE).\n",
      "2024-03-15 09:13:52,676|openeo_gfmap.manager|DEBUG:  Status of job j-240315c62071442abde062b425dc268f is running (on backend Backend.CDSE).\n",
      "2024-03-15 09:13:53,145|openeo_gfmap.manager|DEBUG:  Status of job j-24031578e8fc4dcd8a79ab170a80a046 is running (on backend Backend.CDSE).\n",
      "2024-03-15 09:15:00,712|openeo_gfmap.manager|DEBUG:  Status of job j-240315c62071442abde062b425dc268f is running (on backend Backend.CDSE).\n",
      "2024-03-15 09:15:01,387|openeo_gfmap.manager|DEBUG:  Status of job j-24031578e8fc4dcd8a79ab170a80a046 is running (on backend Backend.CDSE).\n",
      "2024-03-15 09:16:01,816|openeo_gfmap.manager|DEBUG:  Status of job j-240315c62071442abde062b425dc268f is running (on backend Backend.CDSE).\n",
      "2024-03-15 09:16:02,658|openeo_gfmap.manager|DEBUG:  Status of job j-24031578e8fc4dcd8a79ab170a80a046 is running (on backend Backend.CDSE).\n",
      "2024-03-15 09:17:03,281|openeo_gfmap.manager|DEBUG:  Status of job j-240315c62071442abde062b425dc268f is running (on backend Backend.CDSE).\n",
      "2024-03-15 09:17:04,131|openeo_gfmap.manager|DEBUG:  Status of job j-24031578e8fc4dcd8a79ab170a80a046 is running (on backend Backend.CDSE).\n",
      "2024-03-15 09:18:04,700|openeo_gfmap.manager|DEBUG:  Status of job j-240315c62071442abde062b425dc268f is running (on backend Backend.CDSE).\n",
      "2024-03-15 09:18:08,188|openeo_gfmap.manager|DEBUG:  Status of job j-24031578e8fc4dcd8a79ab170a80a046 is running (on backend Backend.CDSE).\n",
      "2024-03-15 09:19:08,486|openeo_gfmap.manager|DEBUG:  Status of job j-240315c62071442abde062b425dc268f is running (on backend Backend.CDSE).\n",
      "2024-03-15 09:19:08,737|openeo_gfmap.manager|DEBUG:  Status of job j-24031578e8fc4dcd8a79ab170a80a046 is running (on backend Backend.CDSE).\n",
      "2024-03-15 09:20:09,091|openeo_gfmap.manager|DEBUG:  Status of job j-240315c62071442abde062b425dc268f is running (on backend Backend.CDSE).\n",
      "2024-03-15 09:20:09,519|openeo_gfmap.manager|DEBUG:  Status of job j-24031578e8fc4dcd8a79ab170a80a046 is running (on backend Backend.CDSE).\n",
      "2024-03-15 09:21:09,938|openeo_gfmap.manager|DEBUG:  Status of job j-240315c62071442abde062b425dc268f is running (on backend Backend.CDSE).\n",
      "2024-03-15 09:21:10,306|openeo_gfmap.manager|DEBUG:  Status of job j-24031578e8fc4dcd8a79ab170a80a046 is running (on backend Backend.CDSE).\n",
      "2024-03-15 09:22:10,807|openeo_gfmap.manager|DEBUG:  Status of job j-240315c62071442abde062b425dc268f is running (on backend Backend.CDSE).\n",
      "2024-03-15 09:22:11,173|openeo_gfmap.manager|DEBUG:  Status of job j-24031578e8fc4dcd8a79ab170a80a046 is running (on backend Backend.CDSE).\n",
      "2024-03-15 09:23:11,508|openeo_gfmap.manager|DEBUG:  Status of job j-240315c62071442abde062b425dc268f is running (on backend Backend.CDSE).\n",
      "2024-03-15 09:23:12,525|openeo_gfmap.manager|DEBUG:  Status of job j-24031578e8fc4dcd8a79ab170a80a046 is running (on backend Backend.CDSE).\n",
      "2024-03-15 09:24:13,476|openeo_gfmap.manager|DEBUG:  Status of job j-240315c62071442abde062b425dc268f is running (on backend Backend.CDSE).\n",
      "2024-03-15 09:24:18,010|openeo_gfmap.manager|DEBUG:  Status of job j-24031578e8fc4dcd8a79ab170a80a046 is running (on backend Backend.CDSE).\n",
      "2024-03-15 09:25:18,542|openeo_gfmap.manager|DEBUG:  Status of job j-240315c62071442abde062b425dc268f is running (on backend Backend.CDSE).\n",
      "2024-03-15 09:25:18,791|openeo_gfmap.manager|DEBUG:  Status of job j-24031578e8fc4dcd8a79ab170a80a046 is running (on backend Backend.CDSE).\n",
      "2024-03-15 09:26:19,152|openeo_gfmap.manager|DEBUG:  Status of job j-240315c62071442abde062b425dc268f is running (on backend Backend.CDSE).\n",
      "2024-03-15 09:26:19,986|openeo_gfmap.manager|DEBUG:  Status of job j-24031578e8fc4dcd8a79ab170a80a046 is running (on backend Backend.CDSE).\n",
      "2024-03-15 09:27:20,576|openeo_gfmap.manager|DEBUG:  Status of job j-240315c62071442abde062b425dc268f is running (on backend Backend.CDSE).\n",
      "2024-03-15 09:27:21,759|openeo_gfmap.manager|DEBUG:  Status of job j-24031578e8fc4dcd8a79ab170a80a046 is running (on backend Backend.CDSE).\n",
      "2024-03-15 09:28:22,941|openeo_gfmap.manager|DEBUG:  Status of job j-240315c62071442abde062b425dc268f is running (on backend Backend.CDSE).\n",
      "2024-03-15 09:28:23,483|openeo_gfmap.manager|DEBUG:  Status of job j-24031578e8fc4dcd8a79ab170a80a046 is running (on backend Backend.CDSE).\n",
      "2024-03-15 09:29:24,091|openeo_gfmap.manager|DEBUG:  Status of job j-240315c62071442abde062b425dc268f is running (on backend Backend.CDSE).\n",
      "2024-03-15 09:29:24,488|openeo_gfmap.manager|DEBUG:  Status of job j-24031578e8fc4dcd8a79ab170a80a046 is running (on backend Backend.CDSE).\n",
      "2024-03-15 09:30:29,196|openeo_gfmap.manager|DEBUG:  Status of job j-240315c62071442abde062b425dc268f is running (on backend Backend.CDSE).\n",
      "2024-03-15 09:30:29,526|openeo_gfmap.manager|DEBUG:  Status of job j-24031578e8fc4dcd8a79ab170a80a046 is running (on backend Backend.CDSE).\n",
      "2024-03-15 09:31:30,331|openeo_gfmap.manager|DEBUG:  Status of job j-240315c62071442abde062b425dc268f is running (on backend Backend.CDSE).\n",
      "2024-03-15 09:31:30,593|openeo_gfmap.manager|DEBUG:  Status of job j-24031578e8fc4dcd8a79ab170a80a046 is running (on backend Backend.CDSE).\n",
      "2024-03-15 09:32:31,055|openeo_gfmap.manager|DEBUG:  Status of job j-240315c62071442abde062b425dc268f is running (on backend Backend.CDSE).\n",
      "2024-03-15 09:32:31,518|openeo_gfmap.manager|DEBUG:  Status of job j-24031578e8fc4dcd8a79ab170a80a046 is running (on backend Backend.CDSE).\n",
      "2024-03-15 09:33:32,248|openeo_gfmap.manager|DEBUG:  Status of job j-240315c62071442abde062b425dc268f is running (on backend Backend.CDSE).\n",
      "2024-03-15 09:33:32,531|openeo_gfmap.manager|DEBUG:  Status of job j-24031578e8fc4dcd8a79ab170a80a046 is running (on backend Backend.CDSE).\n",
      "2024-03-15 09:34:33,066|openeo_gfmap.manager|DEBUG:  Status of job j-240315c62071442abde062b425dc268f is running (on backend Backend.CDSE).\n",
      "2024-03-15 09:34:33,635|openeo_gfmap.manager|DEBUG:  Status of job j-24031578e8fc4dcd8a79ab170a80a046 is running (on backend Backend.CDSE).\n",
      "2024-03-15 09:35:35,313|openeo_gfmap.manager|DEBUG:  Status of job j-240315c62071442abde062b425dc268f is running (on backend Backend.CDSE).\n",
      "2024-03-15 09:35:35,623|openeo_gfmap.manager|DEBUG:  Status of job j-24031578e8fc4dcd8a79ab170a80a046 is running (on backend Backend.CDSE).\n",
      "2024-03-15 09:36:35,952|openeo_gfmap.manager|DEBUG:  Status of job j-240315c62071442abde062b425dc268f is running (on backend Backend.CDSE).\n",
      "2024-03-15 09:36:36,306|openeo_gfmap.manager|DEBUG:  Status of job j-24031578e8fc4dcd8a79ab170a80a046 is running (on backend Backend.CDSE).\n",
      "2024-03-15 09:37:36,785|openeo_gfmap.manager|DEBUG:  Status of job j-240315c62071442abde062b425dc268f is running (on backend Backend.CDSE).\n",
      "2024-03-15 09:37:37,083|openeo_gfmap.manager|DEBUG:  Status of job j-24031578e8fc4dcd8a79ab170a80a046 is running (on backend Backend.CDSE).\n",
      "2024-03-15 09:38:37,505|openeo_gfmap.manager|DEBUG:  Status of job j-240315c62071442abde062b425dc268f is running (on backend Backend.CDSE).\n",
      "2024-03-15 09:38:37,822|openeo_gfmap.manager|DEBUG:  Status of job j-24031578e8fc4dcd8a79ab170a80a046 is running (on backend Backend.CDSE).\n",
      "2024-03-15 09:39:38,833|openeo_gfmap.manager|DEBUG:  Status of job j-240315c62071442abde062b425dc268f is running (on backend Backend.CDSE).\n",
      "2024-03-15 09:39:39,552|openeo_gfmap.manager|DEBUG:  Status of job j-24031578e8fc4dcd8a79ab170a80a046 is running (on backend Backend.CDSE).\n",
      "2024-03-15 09:40:40,055|openeo_gfmap.manager|DEBUG:  Status of job j-240315c62071442abde062b425dc268f is running (on backend Backend.CDSE).\n",
      "2024-03-15 09:40:47,931|openeo_gfmap.manager|DEBUG:  Status of job j-24031578e8fc4dcd8a79ab170a80a046 is running (on backend Backend.CDSE).\n",
      "2024-03-15 09:41:50,536|openeo_gfmap.manager|DEBUG:  Status of job j-240315c62071442abde062b425dc268f is running (on backend Backend.CDSE).\n",
      "2024-03-15 09:41:52,236|openeo_gfmap.manager|DEBUG:  Status of job j-24031578e8fc4dcd8a79ab170a80a046 is running (on backend Backend.CDSE).\n",
      "2024-03-15 09:43:12,380|openeo_gfmap.manager|DEBUG:  Status of job j-240315c62071442abde062b425dc268f is running (on backend Backend.CDSE).\n",
      "2024-03-15 09:43:14,423|openeo_gfmap.manager|DEBUG:  Status of job j-24031578e8fc4dcd8a79ab170a80a046 is running (on backend Backend.CDSE).\n",
      "2024-03-15 09:44:15,101|openeo_gfmap.manager|DEBUG:  Status of job j-240315c62071442abde062b425dc268f is running (on backend Backend.CDSE).\n",
      "2024-03-15 09:44:15,989|openeo_gfmap.manager|DEBUG:  Status of job j-24031578e8fc4dcd8a79ab170a80a046 is running (on backend Backend.CDSE).\n",
      "2024-03-15 09:45:16,482|openeo_gfmap.manager|DEBUG:  Status of job j-240315c62071442abde062b425dc268f is running (on backend Backend.CDSE).\n",
      "2024-03-15 09:45:17,236|openeo_gfmap.manager|DEBUG:  Status of job j-24031578e8fc4dcd8a79ab170a80a046 is running (on backend Backend.CDSE).\n",
      "2024-03-15 09:46:17,829|openeo_gfmap.manager|DEBUG:  Status of job j-240315c62071442abde062b425dc268f is running (on backend Backend.CDSE).\n",
      "2024-03-15 09:46:18,251|openeo_gfmap.manager|DEBUG:  Status of job j-24031578e8fc4dcd8a79ab170a80a046 is running (on backend Backend.CDSE).\n",
      "2024-03-15 09:47:18,886|openeo_gfmap.manager|DEBUG:  Status of job j-240315c62071442abde062b425dc268f is running (on backend Backend.CDSE).\n",
      "2024-03-15 09:47:19,746|openeo_gfmap.manager|DEBUG:  Status of job j-24031578e8fc4dcd8a79ab170a80a046 is running (on backend Backend.CDSE).\n",
      "2024-03-15 09:48:20,816|openeo_gfmap.manager|DEBUG:  Status of job j-240315c62071442abde062b425dc268f is running (on backend Backend.CDSE).\n",
      "2024-03-15 09:48:37,899|openeo_gfmap.manager|DEBUG:  Status of job j-24031578e8fc4dcd8a79ab170a80a046 is running (on backend Backend.CDSE).\n",
      "2024-03-15 09:49:37,900|openeo_gfmap.manager|DEBUG:  Status of job j-240315c62071442abde062b425dc268f is running (on backend Backend.CDSE).\n",
      "2024-03-15 09:49:38,356|openeo_gfmap.manager|DEBUG:  Status of job j-24031578e8fc4dcd8a79ab170a80a046 is running (on backend Backend.CDSE).\n",
      "2024-03-15 09:50:38,349|openeo_gfmap.manager|DEBUG:  Status of job j-240315c62071442abde062b425dc268f is running (on backend Backend.CDSE).\n",
      "2024-03-15 09:50:39,529|openeo_gfmap.manager|DEBUG:  Status of job j-24031578e8fc4dcd8a79ab170a80a046 is running (on backend Backend.CDSE).\n",
      "2024-03-15 09:51:39,673|openeo_gfmap.manager|DEBUG:  Status of job j-240315c62071442abde062b425dc268f is running (on backend Backend.CDSE).\n",
      "2024-03-15 09:51:43,279|openeo_gfmap.manager|DEBUG:  Status of job j-24031578e8fc4dcd8a79ab170a80a046 is running (on backend Backend.CDSE).\n",
      "2024-03-15 09:52:43,158|openeo_gfmap.manager|DEBUG:  Status of job j-240315c62071442abde062b425dc268f is running (on backend Backend.CDSE).\n",
      "2024-03-15 09:52:44,004|openeo_gfmap.manager|DEBUG:  Status of job j-24031578e8fc4dcd8a79ab170a80a046 is running (on backend Backend.CDSE).\n",
      "2024-03-15 09:53:44,515|openeo_gfmap.manager|DEBUG:  Status of job j-240315c62071442abde062b425dc268f is running (on backend Backend.CDSE).\n",
      "2024-03-15 09:53:44,996|openeo_gfmap.manager|DEBUG:  Status of job j-24031578e8fc4dcd8a79ab170a80a046 is running (on backend Backend.CDSE).\n",
      "2024-03-15 09:54:45,422|openeo_gfmap.manager|DEBUG:  Status of job j-240315c62071442abde062b425dc268f is running (on backend Backend.CDSE).\n",
      "2024-03-15 09:54:46,025|openeo_gfmap.manager|DEBUG:  Status of job j-24031578e8fc4dcd8a79ab170a80a046 is running (on backend Backend.CDSE).\n",
      "2024-03-15 09:55:46,802|openeo_gfmap.manager|DEBUG:  Status of job j-240315c62071442abde062b425dc268f is running (on backend Backend.CDSE).\n",
      "2024-03-15 09:55:47,124|openeo_gfmap.manager|DEBUG:  Status of job j-24031578e8fc4dcd8a79ab170a80a046 is running (on backend Backend.CDSE).\n",
      "2024-03-15 09:56:47,739|openeo_gfmap.manager|DEBUG:  Status of job j-240315c62071442abde062b425dc268f is running (on backend Backend.CDSE).\n",
      "2024-03-15 09:56:54,699|openeo_gfmap.manager|DEBUG:  Status of job j-24031578e8fc4dcd8a79ab170a80a046 is running (on backend Backend.CDSE).\n",
      "2024-03-15 09:57:55,338|openeo_gfmap.manager|DEBUG:  Status of job j-240315c62071442abde062b425dc268f is finished (on backend Backend.CDSE).\n",
      "2024-03-15 09:57:55,339|openeo_gfmap.manager|INFO:  Job j-240315c62071442abde062b425dc268f finished successfully, queueing on_job_done...\n",
      "2024-03-15 09:57:55,343|openeo_gfmap.manager|DEBUG:  Worker thread Thread-5 (_post_job_worker): polled finished job with status PostJobStatus.FINISHED.\n",
      "2024-03-15 09:57:55,829|openeo_gfmap.manager|DEBUG:  Status of job j-24031578e8fc4dcd8a79ab170a80a046 is finished (on backend Backend.CDSE).\n",
      "2024-03-15 09:57:55,830|openeo_gfmap.manager|INFO:  Job j-24031578e8fc4dcd8a79ab170a80a046 finished successfully, queueing on_job_done...\n"
     ]
    },
    {
     "name": "stdout",
     "output_type": "stream",
     "text": [
      "DataCube(<PGNode 'dimension_labels' at 0x23c2aaf2c10>)\n",
      "DataCube(<PGNode 'dimension_labels' at 0x23c2ab3e170>)\n"
     ]
    },
    {
     "name": "stderr",
     "output_type": "stream",
     "text": [
      "2024-03-15 09:58:09,540|openeo_gfmap.manager|DEBUG:  Generating output path for asset timeseries.csv from job j-240315c62071442abde062b425dc268f...\n",
      "2024-03-15 09:58:09,545|openeo_gfmap.manager|DEBUG:  Downloading asset timeseries.csv from job j-240315c62071442abde062b425dc268f -> output\\20240313-15h25\\S1S2-stats_841fa47ffffffff_0.csv\n"
     ]
    },
    {
     "name": "stdout",
     "output_type": "stream",
     "text": [
      "output_path: output\\20240313-15h25\\S1S2-stats_841fa47ffffffff_0.csv\n"
     ]
    },
    {
     "name": "stderr",
     "output_type": "stream",
     "text": [
      "2024-03-15 09:58:49,799|openeo_gfmap.manager|INFO:  Downloaded asset timeseries.csv from job j-240315c62071442abde062b425dc268f -> output\\20240313-15h25\\S1S2-stats_841fa47ffffffff_0.csv\n",
      "2024-03-15 09:59:00,881|openeo_gfmap.manager|INFO:  Added 0 items to the STAC collection.\n",
      "2024-03-15 09:59:00,882|openeo_gfmap.manager|INFO:  Job j-240315c62071442abde062b425dc268f and post job action finished successfully.\n",
      "2024-03-15 09:59:00,883|openeo_gfmap.manager|DEBUG:  Worker thread Thread-5 (_post_job_worker): polled finished job with status PostJobStatus.FINISHED.\n",
      "2024-03-15 09:59:18,017|openeo_gfmap.manager|DEBUG:  Status of job j-240315943f4140fab4cabb697441225c is running (on backend Backend.CDSE).\n",
      "2024-03-15 09:59:40,050|openeo_gfmap.manager|DEBUG:  Generating output path for asset timeseries.csv from job j-24031578e8fc4dcd8a79ab170a80a046...\n",
      "2024-03-15 09:59:40,056|openeo_gfmap.manager|DEBUG:  Downloading asset timeseries.csv from job j-24031578e8fc4dcd8a79ab170a80a046 -> output\\20240313-15h25\\S1S2-stats_841fa63ffffffff_0.csv\n"
     ]
    },
    {
     "name": "stdout",
     "output_type": "stream",
     "text": [
      "output_path: output\\20240313-15h25\\S1S2-stats_841fa63ffffffff_0.csv\n"
     ]
    },
    {
     "name": "stderr",
     "output_type": "stream",
     "text": [
      "2024-03-15 10:00:06,833|openeo_gfmap.manager|INFO:  Downloaded asset timeseries.csv from job j-24031578e8fc4dcd8a79ab170a80a046 -> output\\20240313-15h25\\S1S2-stats_841fa63ffffffff_0.csv\n",
      "2024-03-15 10:00:18,336|openeo_gfmap.manager|DEBUG:  Status of job j-240315943f4140fab4cabb697441225c is running (on backend Backend.CDSE).\n",
      "2024-03-15 10:00:24,572|openeo_gfmap.manager|INFO:  Added 0 items to the STAC collection.\n",
      "2024-03-15 10:00:24,573|openeo_gfmap.manager|INFO:  Job j-24031578e8fc4dcd8a79ab170a80a046 and post job action finished successfully.\n",
      "2024-03-15 10:01:18,729|openeo_gfmap.manager|DEBUG:  Status of job j-240315943f4140fab4cabb697441225c is running (on backend Backend.CDSE).\n",
      "2024-03-15 10:02:22,305|openeo_gfmap.manager|DEBUG:  Status of job j-240315943f4140fab4cabb697441225c is running (on backend Backend.CDSE).\n",
      "2024-03-15 10:03:22,733|openeo_gfmap.manager|DEBUG:  Status of job j-240315943f4140fab4cabb697441225c is running (on backend Backend.CDSE).\n",
      "2024-03-15 10:04:23,401|openeo_gfmap.manager|DEBUG:  Status of job j-240315943f4140fab4cabb697441225c is running (on backend Backend.CDSE).\n",
      "2024-03-15 10:05:23,873|openeo_gfmap.manager|DEBUG:  Status of job j-240315943f4140fab4cabb697441225c is running (on backend Backend.CDSE).\n",
      "2024-03-15 10:06:25,303|openeo_gfmap.manager|DEBUG:  Status of job j-240315943f4140fab4cabb697441225c is running (on backend Backend.CDSE).\n",
      "2024-03-15 10:07:25,708|openeo_gfmap.manager|DEBUG:  Status of job j-240315943f4140fab4cabb697441225c is running (on backend Backend.CDSE).\n",
      "2024-03-15 10:08:27,002|openeo_gfmap.manager|DEBUG:  Status of job j-240315943f4140fab4cabb697441225c is running (on backend Backend.CDSE).\n",
      "2024-03-15 10:09:27,338|openeo_gfmap.manager|DEBUG:  Status of job j-240315943f4140fab4cabb697441225c is running (on backend Backend.CDSE).\n",
      "2024-03-15 10:10:28,154|openeo_gfmap.manager|DEBUG:  Status of job j-240315943f4140fab4cabb697441225c is running (on backend Backend.CDSE).\n",
      "2024-03-15 10:11:28,758|openeo_gfmap.manager|DEBUG:  Status of job j-240315943f4140fab4cabb697441225c is running (on backend Backend.CDSE).\n",
      "2024-03-15 10:12:30,983|openeo_gfmap.manager|DEBUG:  Status of job j-240315943f4140fab4cabb697441225c is running (on backend Backend.CDSE).\n",
      "2024-03-15 10:13:31,998|openeo_gfmap.manager|DEBUG:  Status of job j-240315943f4140fab4cabb697441225c is running (on backend Backend.CDSE).\n",
      "2024-03-15 10:14:32,738|openeo_gfmap.manager|DEBUG:  Status of job j-240315943f4140fab4cabb697441225c is running (on backend Backend.CDSE).\n",
      "2024-03-15 10:15:33,082|openeo_gfmap.manager|DEBUG:  Status of job j-240315943f4140fab4cabb697441225c is running (on backend Backend.CDSE).\n",
      "2024-03-15 10:16:34,082|openeo_gfmap.manager|DEBUG:  Status of job j-240315943f4140fab4cabb697441225c is running (on backend Backend.CDSE).\n",
      "2024-03-15 10:17:34,409|openeo_gfmap.manager|DEBUG:  Status of job j-240315943f4140fab4cabb697441225c is running (on backend Backend.CDSE).\n",
      "2024-03-15 10:18:34,820|openeo_gfmap.manager|DEBUG:  Status of job j-240315943f4140fab4cabb697441225c is running (on backend Backend.CDSE).\n",
      "2024-03-15 10:19:36,063|openeo_gfmap.manager|DEBUG:  Status of job j-240315943f4140fab4cabb697441225c is running (on backend Backend.CDSE).\n",
      "2024-03-15 10:20:36,436|openeo_gfmap.manager|DEBUG:  Status of job j-240315943f4140fab4cabb697441225c is running (on backend Backend.CDSE).\n",
      "2024-03-15 10:21:36,883|openeo_gfmap.manager|DEBUG:  Status of job j-240315943f4140fab4cabb697441225c is running (on backend Backend.CDSE).\n",
      "2024-03-15 10:22:37,313|openeo_gfmap.manager|DEBUG:  Status of job j-240315943f4140fab4cabb697441225c is running (on backend Backend.CDSE).\n",
      "2024-03-15 10:23:38,080|openeo_gfmap.manager|DEBUG:  Status of job j-240315943f4140fab4cabb697441225c is running (on backend Backend.CDSE).\n",
      "2024-03-15 10:24:38,536|openeo_gfmap.manager|DEBUG:  Status of job j-240315943f4140fab4cabb697441225c is running (on backend Backend.CDSE).\n",
      "2024-03-15 10:25:39,084|openeo_gfmap.manager|DEBUG:  Status of job j-240315943f4140fab4cabb697441225c is running (on backend Backend.CDSE).\n",
      "2024-03-15 10:26:39,669|openeo_gfmap.manager|DEBUG:  Status of job j-240315943f4140fab4cabb697441225c is running (on backend Backend.CDSE).\n",
      "2024-03-15 10:27:40,464|openeo_gfmap.manager|DEBUG:  Status of job j-240315943f4140fab4cabb697441225c is running (on backend Backend.CDSE).\n",
      "2024-03-15 10:28:41,247|openeo_gfmap.manager|DEBUG:  Status of job j-240315943f4140fab4cabb697441225c is running (on backend Backend.CDSE).\n",
      "2024-03-15 10:29:43,239|openeo_gfmap.manager|DEBUG:  Status of job j-240315943f4140fab4cabb697441225c is running (on backend Backend.CDSE).\n",
      "2024-03-15 10:30:43,917|openeo_gfmap.manager|DEBUG:  Status of job j-240315943f4140fab4cabb697441225c is running (on backend Backend.CDSE).\n",
      "2024-03-15 10:31:44,997|openeo_gfmap.manager|DEBUG:  Status of job j-240315943f4140fab4cabb697441225c is running (on backend Backend.CDSE).\n",
      "2024-03-15 10:32:46,671|openeo_gfmap.manager|DEBUG:  Status of job j-240315943f4140fab4cabb697441225c is running (on backend Backend.CDSE).\n",
      "2024-03-15 10:33:49,017|openeo_gfmap.manager|DEBUG:  Status of job j-240315943f4140fab4cabb697441225c is running (on backend Backend.CDSE).\n",
      "2024-03-15 10:34:49,967|openeo_gfmap.manager|DEBUG:  Status of job j-240315943f4140fab4cabb697441225c is running (on backend Backend.CDSE).\n",
      "2024-03-15 10:36:13,331|openeo_gfmap.manager|DEBUG:  Status of job j-240315943f4140fab4cabb697441225c is running (on backend Backend.CDSE).\n",
      "2024-03-15 10:37:15,944|openeo_gfmap.manager|DEBUG:  Status of job j-240315943f4140fab4cabb697441225c is running (on backend Backend.CDSE).\n",
      "2024-03-15 10:38:16,407|openeo_gfmap.manager|DEBUG:  Status of job j-240315943f4140fab4cabb697441225c is running (on backend Backend.CDSE).\n",
      "2024-03-15 10:39:16,995|openeo_gfmap.manager|DEBUG:  Status of job j-240315943f4140fab4cabb697441225c is running (on backend Backend.CDSE).\n",
      "2024-03-15 10:40:21,892|openeo_gfmap.manager|DEBUG:  Status of job j-240315943f4140fab4cabb697441225c is running (on backend Backend.CDSE).\n",
      "2024-03-15 10:41:22,593|openeo_gfmap.manager|DEBUG:  Status of job j-240315943f4140fab4cabb697441225c is running (on backend Backend.CDSE).\n",
      "2024-03-15 10:42:23,819|openeo_gfmap.manager|DEBUG:  Status of job j-240315943f4140fab4cabb697441225c is running (on backend Backend.CDSE).\n",
      "2024-03-15 10:43:24,243|openeo_gfmap.manager|DEBUG:  Status of job j-240315943f4140fab4cabb697441225c is running (on backend Backend.CDSE).\n",
      "2024-03-15 10:44:24,984|openeo_gfmap.manager|DEBUG:  Status of job j-240315943f4140fab4cabb697441225c is running (on backend Backend.CDSE).\n",
      "2024-03-15 10:45:25,917|openeo_gfmap.manager|DEBUG:  Status of job j-240315943f4140fab4cabb697441225c is running (on backend Backend.CDSE).\n",
      "2024-03-15 10:46:32,407|openeo_gfmap.manager|DEBUG:  Status of job j-240315943f4140fab4cabb697441225c is running (on backend Backend.CDSE).\n",
      "2024-03-15 10:47:32,933|openeo_gfmap.manager|DEBUG:  Status of job j-240315943f4140fab4cabb697441225c is running (on backend Backend.CDSE).\n",
      "2024-03-15 10:48:34,274|openeo_gfmap.manager|DEBUG:  Status of job j-240315943f4140fab4cabb697441225c is running (on backend Backend.CDSE).\n",
      "2024-03-15 10:49:35,135|openeo_gfmap.manager|DEBUG:  Status of job j-240315943f4140fab4cabb697441225c is running (on backend Backend.CDSE).\n",
      "2024-03-15 10:50:39,785|openeo_gfmap.manager|DEBUG:  Status of job j-240315943f4140fab4cabb697441225c is running (on backend Backend.CDSE).\n",
      "2024-03-15 10:51:40,276|openeo_gfmap.manager|DEBUG:  Status of job j-240315943f4140fab4cabb697441225c is running (on backend Backend.CDSE).\n",
      "2024-03-15 10:52:40,749|openeo_gfmap.manager|DEBUG:  Status of job j-240315943f4140fab4cabb697441225c is running (on backend Backend.CDSE).\n",
      "2024-03-15 10:53:41,183|openeo_gfmap.manager|DEBUG:  Status of job j-240315943f4140fab4cabb697441225c is running (on backend Backend.CDSE).\n",
      "2024-03-15 10:54:42,694|openeo_gfmap.manager|DEBUG:  Status of job j-240315943f4140fab4cabb697441225c is finished (on backend Backend.CDSE).\n",
      "2024-03-15 10:54:42,695|openeo_gfmap.manager|INFO:  Job j-240315943f4140fab4cabb697441225c finished successfully, queueing on_job_done...\n",
      "2024-03-15 10:54:42,698|openeo_gfmap.manager|DEBUG:  Worker thread Thread-5 (_post_job_worker): polled finished job with status PostJobStatus.FINISHED.\n",
      "2024-03-15 10:54:56,676|openeo_gfmap.manager|DEBUG:  Generating output path for asset timeseries.csv from job j-240315943f4140fab4cabb697441225c...\n",
      "2024-03-15 10:54:56,681|openeo_gfmap.manager|DEBUG:  Downloading asset timeseries.csv from job j-240315943f4140fab4cabb697441225c -> output\\20240313-15h25\\S1S2-stats_841fa6bffffffff_0.csv\n"
     ]
    },
    {
     "name": "stdout",
     "output_type": "stream",
     "text": [
      "output_path: output\\20240313-15h25\\S1S2-stats_841fa6bffffffff_0.csv\n"
     ]
    },
    {
     "name": "stderr",
     "output_type": "stream",
     "text": [
      "2024-03-15 10:55:11,237|openeo_gfmap.manager|INFO:  Downloaded asset timeseries.csv from job j-240315943f4140fab4cabb697441225c -> output\\20240313-15h25\\S1S2-stats_841fa6bffffffff_0.csv\n",
      "2024-03-15 10:55:39,216|openeo_gfmap.manager|INFO:  Added 0 items to the STAC collection.\n",
      "2024-03-15 10:55:39,218|openeo_gfmap.manager|INFO:  Job j-240315943f4140fab4cabb697441225c and post job action finished successfully.\n"
     ]
    }
   ],
   "source": [
    "manager.run_jobs(\n",
    "    job_df,\n",
    "    load_lc_features,\n",
    "    tracking_file\n",
    ")"
   ]
  },
  {
   "cell_type": "markdown",
   "id": "402f621d",
   "metadata": {},
   "source": [
    "## Combine the results"
   ]
  },
  {
   "cell_type": "markdown",
   "id": "1bc57588",
   "metadata": {},
   "source": [
    "We combine all the different extractions into one dataframe to train and test the model."
   ]
  },
  {
   "cell_type": "code",
   "execution_count": 14,
   "id": "1d906acf",
   "metadata": {},
   "outputs": [],
   "source": [
    "## Run these lines to post-process older results\n",
    "# timestr = \"20240312-09h58\"\n",
    "# tracking_file = base_output_path / f\"tracking_{timestr}.csv\""
   ]
  },
  {
   "cell_type": "code",
   "execution_count": 16,
   "id": "263f5291",
   "metadata": {},
   "outputs": [
    {
     "name": "stderr",
     "output_type": "stream",
     "text": [
      "C:\\Users\\VERHAERV\\AppData\\Local\\Temp\\ipykernel_21972\\2988137680.py:23: FutureWarning: The behavior of DataFrame concatenation with empty or all-NA entries is deprecated. In a future version, this will no longer exclude empty or all-NA columns when determining the result dtypes. To retain the old behavior, exclude the relevant entries before the concat operation.\n",
      "  df = pd.concat([df, stats_df])\n"
     ]
    }
   ],
   "source": [
    "\n",
    "tracker_df = pd.read_csv(tracking_file)\n",
    "df = pd.DataFrame(columns = final_band_names + ['target', 'geometry'])\n",
    "\n",
    "for index, row in tracker_df.iterrows():\n",
    "    if row.status == \"finished\":\n",
    "        try:\n",
    "            # Get the target and geometry from the input\n",
    "            geometry = gpd.read_file(row.geometry, driver='geojson')\n",
    "            geometry['id'] = geometry['id'].astype('int64')\n",
    "            h3index = geometry.iloc[0]['h3index']\n",
    "            filename = f\"S1S2-stats_{h3index}_0.csv\"\n",
    "            target_df = geometry[['id', 'target', 'geometry']]\n",
    "\n",
    "            # Read the stats\n",
    "            stats_df = pd.read_csv(base_output_path/timestr/filename)\n",
    "            stats_df.columns = ['id'] + final_band_names\n",
    "\n",
    "            # Merge the target and geometry with the stats\n",
    "            stats_df = stats_df.merge(target_df, how='left', on='id')\n",
    "            stats_df = stats_df.drop(columns=['id'])\n",
    "\n",
    "            # Append to the dataframe\n",
    "            df = pd.concat([df, stats_df])\n",
    "        except FileNotFoundError as e:\n",
    "            print(f\"File not found: {filename}\")\n",
    "            pass\n"
   ]
  },
  {
   "cell_type": "markdown",
   "id": "b7051082",
   "metadata": {},
   "source": [
    "Here we filter out features that contain NaN values. These often correspond to the months January and December."
   ]
  },
  {
   "cell_type": "code",
   "execution_count": null,
   "id": "43034a22",
   "metadata": {},
   "outputs": [],
   "source": [
    "## drop NA columns\n",
    "# nan_columns = df.columns[df.isna().any()].tolist()\n",
    "# print(f\"Dropping columns containing NaN: {nan_columns}\")\n",
    "# df.drop(nan_columns, axis=1, inplace=True)"
   ]
  },
  {
   "cell_type": "code",
   "execution_count": 17,
   "id": "9e3e4cd3",
   "metadata": {},
   "outputs": [],
   "source": [
    "df.to_csv(base_output_path / timestr / \"features.csv\", index=False)"
   ]
  },
  {
   "cell_type": "markdown",
   "id": "6ce86796",
   "metadata": {},
   "source": [
    "## Training and testing a random forrest model\n",
    "The Following is just an example of local training a random forrest."
   ]
  },
  {
   "cell_type": "code",
   "execution_count": 18,
   "id": "7f4fb9a1",
   "metadata": {},
   "outputs": [],
   "source": [
    "X = df.drop(columns=['target', 'geometry'])\n",
    "y = df['target'].astype(int)\n",
    "\n",
    "X_train, X_test, y_train, y_test = train_test_split(X, y, test_size=0.3)"
   ]
  },
  {
   "cell_type": "code",
   "execution_count": 19,
   "id": "2ab4fb94",
   "metadata": {},
   "outputs": [
    {
     "name": "stdout",
     "output_type": "stream",
     "text": [
      "Fitting 3 folds for each of 48 candidates, totalling 144 fits\n"
     ]
    },
    {
     "name": "stderr",
     "output_type": "stream",
     "text": [
      "c:\\Users\\VERHAERV\\WorkingDirs\\dynamic-land-cover-mapping\\.conda\\Lib\\site-packages\\sklearn\\model_selection\\_split.py:737: UserWarning: The least populated class in y has only 1 members, which is less than n_splits=3.\n",
      "  warnings.warn(\n"
     ]
    },
    {
     "data": {
      "text/plain": [
       "{'max_depth': 100,\n",
       " 'max_features': 'log2',\n",
       " 'min_samples_leaf': 2,\n",
       " 'min_samples_split': 2,\n",
       " 'n_estimators': 200}"
      ]
     },
     "execution_count": 19,
     "metadata": {},
     "output_type": "execute_result"
    }
   ],
   "source": [
    "from sklearn.ensemble import RandomForestClassifier\n",
    "from sklearn.model_selection import GridSearchCV\n",
    "\n",
    "param_grid = {\n",
    "    'max_depth': [100, None],\n",
    "    'max_features': [4, 'log2'],\n",
    "    'min_samples_leaf': [1, 2],\n",
    "    'min_samples_split': [2, 3],\n",
    "    'n_estimators': [100, 200, 300]\n",
    "}\n",
    "rf = RandomForestClassifier()\n",
    "grid_search = GridSearchCV(estimator = rf, param_grid = param_grid, cv = 3, n_jobs = -1, verbose = 2)\n",
    "\n",
    "grid_search.fit(X_train, y_train)\n",
    "grid_search.best_params_"
   ]
  },
  {
   "cell_type": "code",
   "execution_count": 20,
   "id": "3bec59fc",
   "metadata": {},
   "outputs": [
    {
     "name": "stdout",
     "output_type": "stream",
     "text": [
      "Accuracy on test set: 0.865\n"
     ]
    }
   ],
   "source": [
    "y_pred = grid_search.predict(X_test)\n",
    "print(\"Accuracy on test set: \"+str(accuracy_score(y_test,y_pred))[0:5])"
   ]
  }
 ],
 "metadata": {
  "kernelspec": {
   "display_name": "openEO Python Client",
   "language": "python",
   "name": "python3"
  },
  "language_info": {
   "codemirror_mode": {
    "name": "ipython",
    "version": 3
   },
   "file_extension": ".py",
   "mimetype": "text/x-python",
   "name": "python",
   "nbconvert_exporter": "python",
   "pygments_lexer": "ipython3",
   "version": "3.11.8"
  }
 },
 "nbformat": 4,
 "nbformat_minor": 5
}
